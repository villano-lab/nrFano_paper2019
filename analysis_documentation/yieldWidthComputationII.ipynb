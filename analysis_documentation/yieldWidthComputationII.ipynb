{
 "cells": [
  {
   "cell_type": "code",
   "execution_count": 1,
   "metadata": {},
   "outputs": [],
   "source": [
    "#we may need some code in the ../python directory and/or matplotlib styles\n",
    "import sys\n",
    "sys.path.append('../python/')\n",
    "\n",
    "#matplotlib for plotting\n",
    "import matplotlib as mpl\n",
    "from matplotlib import pyplot as plt\n",
    "plt.style.use('../mplstyles/stylelib/standard.mplstyle')\n",
    "\n",
    "#other computational libraries\n",
    "import numpy as np"
   ]
  },
  {
   "cell_type": "markdown",
   "metadata": {},
   "source": [
    "# Summary\n",
    "\n",
    "The notebook `yieldWidthComputationI.ipynb` mentioned that the exact ionization yield width computation for the GGA3 detector of the EDELWEISS publication [[EDW2004][EDW2004]] was computationally slow. In fact it takes about 1 min to evaluate the yield width for a single energy. Since our fitting will require several thousand function evaluations we sought a way to compute the yield widths of the electron recoil and nuclear recoil bands much more quickly. The *moment expansion* is the method that we use and it was also employed in the original EDELWEISS publication. \n",
    "\n",
    "This notebook explains the moment expansion and compares our version to the slightly less accurate version presented in the original EDELWEISS publication. We need to apply some corrections to the nuclear recoil band version of this expansion in order so that the overall deviation from the exact calculation is kept small. \n",
    "\n",
    "\n",
    "[EDW2004]: https://doi.org/10.1016/j.nima.2004.04.218 \"EDELWEISS 2004 resolution paper\""
   ]
  },
  {
   "cell_type": "markdown",
   "metadata": {},
   "source": [
    "# The Moment Expansion\n",
    "\n",
    "The notebook `yieldWidthComputationI.ipynb` showed the definitions of measured recoil energy and measured ionization yield, they are repeated below for convenience:\n",
    "\n",
    "\\begin{equation}\n",
    "\\tilde{E}_r = E_r + \\chi \\delta H - \\Omega \\delta I,\n",
    "\\end{equation}\n",
    "\n",
    "\\begin{equation}\n",
    "Q = \\frac{\\epsilon N + \\delta I}{E_r + \\chi \\delta H - \\Omega \\delta I}.\n",
    "\\end{equation}\n",
    "\n",
    "Here, we have made the following definitions for brevity:\n",
    "\n",
    "\\begin{equation}\n",
    "\\chi \\equiv \\left(1 + \\frac{V}{\\epsilon}\\right),\n",
    "\\end{equation}\n",
    "\n",
    "\\begin{equation}\n",
    "\\Omega \\equiv \\left(\\frac{V}{\\epsilon}\\right).\n",
    "\\end{equation}\n",
    "\n",
    "In what follows--like in the exact computations presented in `yieldWidthComputationI.ipynb`--it is important to note that the random variables $\\delta H$, $\\delta I$, and $N$ are independent (have covariances of *zero*) and are all plausibly modeled as normally distributed.\n",
    "\n",
    "In this research we are constructing methods to measure $\\sigma_N$ for nuclear recoils given knowledge of $\\sigma_I$ and $\\sigma_H$, along with experimental measurements of $\\sigma_Q$.\n",
    "\n",
    "As in the exact calculation we can compute $\\sigma_Q$ from its definition:\n",
    "\n",
    "\\begin{equation}\n",
    "\\sigma_Q^2 = E[Q^2] - E[Q]^2, \n",
    "\\end{equation}\n",
    "\n",
    "where the $E[\\cdot]$ is the *expectation* of a quantity given its distribution. \n",
    "\n",
    "The previous exact calculations were focused on finding the true PDF of $Q$, i.e. its distribution function at a given measured energy ($f_Q(Q|\\tilde{E}_r)$). With that distribution the appropriate integrals are computed to arrive at the variance ($\\sigma_Q^2(\\tilde{E}_r)$) as defined above.\n",
    "\n",
    "In the *moment expansion* each expectation value $E[Q]$ and $E[Q^2]$ are computed by doing a multi-dimensional Taylor Expansion of the definition of $Q$ and then taking the expectation values, inserting the appropriate values for quantities like $E[N]$ or $E[(\\delta H)^2]$. "
   ]
  },
  {
   "cell_type": "markdown",
   "metadata": {},
   "source": [
    "## Computing the Moments\n",
    "\n",
    "Approximating the following expectations is what we need to do.\n",
    "\n",
    "\\begin{equation}\n",
    "E[Q] = E\\left[\\frac{\\epsilon N + \\delta I}{E_r + \\chi \\delta H - \\Omega \\delta I}\\right]\n",
    "\\end{equation}\n",
    "\n",
    "\\begin{equation}\n",
    "E[Q^2] = E\\left[\\left(\\frac{\\epsilon N + \\delta I}{E_r + \\chi \\delta H - \\Omega \\delta I}\\right)^2\\right]\n",
    "\\end{equation}\n",
    "\n",
    "The nonlinear functions inside the expectations are replaced with their Taylor Expansions about the means, this is the essence of the moment expansion [[MEWiki][MEWiki]]. \n",
    "\n",
    "When the Taylor Expansion is made it leaves the relevant expectation values in the following form:\n",
    "\n",
    "\\begin{equation}\n",
    "E[Q]^2 = E\\left[\\left( \\bar{Q} + Q_H \\delta H + Q_I \\delta I + Q_N \\left(N-\\bar{N}\\right) \\ldots \\right) \\right]^2,\n",
    "\\end{equation}\n",
    "\n",
    "\\begin{equation}\n",
    "E[Q^2] = E\\left[\\left( \\bar{Q} + Q_H \\delta H + Q_I \\delta I + Q_N \\left(N-\\bar{N}\\right) \\ldots \\right) \\left( \\bar{Q} + Q_H \\delta H + Q_I \\delta I + Q_N \\left(N-\\bar{N}\\right) \\ldots \\right)\\right].\n",
    "\\end{equation}\n",
    "\n",
    "Here we have used several facts to simplify the expressions inside the expectations slightly. First, the means of the $\\delta H$ and $\\delta I$ RVs are zero. Next, the notation $Q_I$ or $Q_H$ are shorthand for the first partial derivatives of $Q$ with respect to $\\delta I$ and $\\delta H$ respectively, evaluated at the mean values for all the RVs. Last, the quantity $\\bar{N}$ is simply $E_r\\bar{Q}/\\epsilon_{\\gamma}$ or, in words, the number of electron hole pairs produced by a recoil at a given recoil energy is the average ionization yield evaluated at that energy times the recoil energy and divided by the average electron-equivalent energy to create a single electron-hole pair ($\\epsilon_{\\gamma}$). \n",
    "\n",
    "Because all the basic RVs are normally distributed and independent, there are a number of other simplifications. \n",
    "\n",
    "  * All covariances are zero--this greatly reduces the number of terms that contribute to $E[Q^2]$. \n",
    "  * All RVs have only even central moments non-zero, and those are related to the second central moment in a well-defined way. \n",
    "  * Most terms in $E[Q]^2$ have counterpart terms in $E[Q^2]$ which will perfectly cancel after subtraction. Some examples are terms that involve the leading $\\bar{Q}$ of the expansion. \n",
    "  * All terms involving derivatives of $N$ will involve the effective nuclear recoil Fano factor and will vanish if we do not include this (like when evaluating the yield width for electron recoils where the \"Fano\" part of $\\sigma_N$ is implicitly included in the resolutions and very small). *__This fact will be important in the extraction of the effective Fano factor in this work__*. \n",
    "  \n",
    "  \n",
    "\n",
    "[MEWiki]: https://en.wikipedia.org/wiki/Taylor_expansions_for_the_moments_of_functions_of_random_variables \"Wikipedia entry for the Moment Expansion\""
   ]
  },
  {
   "cell_type": "markdown",
   "metadata": {},
   "source": [
    "## Results\n",
    "\n",
    "Note that the summary of the resolutions in the above is relative to the keVee scale, but we want these, instead, to be quoted as a function of the true recoil energy, $E_r$, for a given ionization yield model. We can use the yield model used in the Edelweiss paper:\n",
    "\n",
    "\\begin{equation}\n",
    "\\bar{Q}(E_r) = aE_r^b,\n",
    "\\end{equation}\n",
    "\n",
    "with a=0.16 and b=0.18. In terms of the average ionization yield, the conversion of the resolution functions to the $E_r$ scale can be accomplished by transforming the $E_r$ energy into the _electron equivalent_ energy for ionization ($E_{\\mathrm{ee}}^I$) or heat ($E_{\\mathrm{ee}}^h$). \n",
    "\n",
    "\\begin{equation}\n",
    "E_{\\mathrm{ee}}^h = \\frac{\\left(1+ \\frac{V}{\\epsilon}\\bar{Q}\\right)E_r}{1+\\frac{V}{\\epsilon}}\n",
    "\\end{equation}\n",
    "\n",
    "\\begin{equation}\n",
    "E_{\\mathrm{ee}}^I = \\bar{Q}E_r\n",
    "\\end{equation}\n",
    "\n",
    "Note that these two definitions are equivalent when the average ionization yield is one (like for electron-recoils), but differs when the average ionization yield is not one. This underscores the fact that heat and ionization scales cannot be universally (for all recoil types) defined because the average ionization yield does not affect \"primary\" phonon production and Luke-Neganov phonon production [[Luke88][Luke88]][[Neganov85][Neganov85]] in the same way. \n",
    "\n",
    "[Luke88]: https://doi.org/10.1016/0168-9002(90)91510-I \"Voltage amplification I\"\n",
    "[Neganov85]: https://link.springer.com/article/10.1134/1.1423744 \"Voltage amplification II:\"\n",
    "\n",
    "__Note: [[Neganov85][Neganov85]] is not the correct reference, search for the reference B. Neganov and V. Trofimov, Otkrytiya, Izobret.146, 215(1985), which is cited there; but it's hard to find electronically.__"
   ]
  },
  {
   "cell_type": "markdown",
   "metadata": {},
   "source": [
    "# Convergence\n",
    "\n",
    "The moment expansion is a formal tool but it is not known to converge to the correct full expression that we've derived in `yieldWidthComputationI.ipynb`. In fact it may not converge at all but rather be asymptotic. We then want to show that it is a good enough expression for our purposes if we take it to a finite order. \n",
    "\n",
    "The first comparison would be the lowest non-trivial order for the expression (used in the EDELWEISS paper [[EDW2004][EDW2004]]) and our higher order approximation for Electron Recoils. \n",
    "\n",
    "[EDW2004]: https://doi.org/10.1016/j.nima.2004.04.218 \"EDELWEISS 2004 resolution paper\""
   ]
  },
  {
   "cell_type": "code",
   "execution_count": 2,
   "metadata": {},
   "outputs": [
    {
     "name": "stdout",
     "output_type": "stream",
     "text": [
      "GGA3/NR/4.0/5.556E-02/0.0380/000/0.1493/0.1782/0.9975/\n",
      "GGA3/NR/4.0/5.556E-02/0.0381/000/0.1537/0.1703/0.9948/\n"
     ]
    }
   ],
   "source": [
    "import prob_dist as pd\n",
    "import EdwRes as er\n",
    "import time\n",
    "import imp\n",
    "imp.reload(pd)\n",
    "\n",
    "#get the resolutions                                                                              \n",
    "sigHv,sigIv,sigQerv,sigH_NRv,sigI_NRv,sigQnrv = \\\n",
    " er.getEdw_det_res('GGA3',4.0,'data/edw_res_data.txt',aH=0.0381,C=None) \n",
    "\n",
    "fF = pd.QEr_v2_2D_fast(sigHv,sigIv,4.0,3.0,0.00000001,Qbar=lambda x: 0.16*x**0.18)                            \n",
    "gF = pd.expband_2D(fF,(1/18.0),1.5)"
   ]
  },
  {
   "cell_type": "code",
   "execution_count": null,
   "metadata": {},
   "outputs": [],
   "source": []
  }
 ],
 "metadata": {
  "kernelspec": {
   "display_name": "fano_pub",
   "language": "python",
   "name": "fano_pub"
  },
  "language_info": {
   "codemirror_mode": {
    "name": "ipython",
    "version": 3
   },
   "file_extension": ".py",
   "mimetype": "text/x-python",
   "name": "python",
   "nbconvert_exporter": "python",
   "pygments_lexer": "ipython3",
   "version": "3.8.6"
  }
 },
 "nbformat": 4,
 "nbformat_minor": 4
}
