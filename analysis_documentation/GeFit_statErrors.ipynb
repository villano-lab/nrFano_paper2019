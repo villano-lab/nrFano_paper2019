{
 "cells": [
  {
   "cell_type": "code",
   "execution_count": 1,
   "metadata": {},
   "outputs": [],
   "source": [
    "#we may need some code in the ../python directory and/or matplotlib styles\n",
    "import sys\n",
    "sys.path.append('../python/')\n",
    "\n",
    "#matplotlib for plotting\n",
    "import matplotlib as mpl\n",
    "from matplotlib import pyplot as plt\n",
    "plt.style.use('../mplstyles/stylelib/standard.mplstyle')\n",
    "\n",
    "#other computational libraries\n",
    "import numpy as np"
   ]
  },
  {
   "cell_type": "markdown",
   "metadata": {},
   "source": [
    "## Summary: Edelweiss C and its Error\n",
    "\n",
    "One wonders if a different estimate on the widening necessary for the nuclear-recoil band would happen if there were systematic errors on e.g. the recorded voltage on the detector.\n",
    "\n",
    "This notebook examines the effect of possible systematics on C.\n",
    "\n",
    "## Band Widths\n",
    "Edelweiss parametrizes their band widths for all detectors (see eq'ns 9, 10, and 11 from the above paper).  \n",
    "\n",
    "$$\\sigma_{Q\\gamma}(E_R) = \\frac{1 + V/\\epsilon}{E_R}\\sqrt{\\sigma_I^2 + \\sigma_H^2}$$\n",
    "\n",
    "$$\\sigma_{Qn}(E_R) = \\sqrt{C^2 + \\frac{1}{E^2_R} \\left( \\left(1+\\frac{V}{\\epsilon}\\langle Q_n\\rangle\\right)^2\\sigma_I^2 + \\left( 1+\\frac{V}{\\epsilon}\\right)^2\\langle Q_n\\rangle^2\\sigma_H^2\\right)} $$\n",
    "\n",
    "where $C$ is a fitted constant; $\\epsilon$ is the average energy needed to create a single electron-hole pair in germanium (3 eV); and $\\langle Q_n \\rangle$, $\\sigma_I^2$, and $\\sigma_H^2$ are all functions of the true recoil energy $E_R$. The yield $\\langle Q_n \\rangle = 0.16 E_R^{0.18}$.  The terms $\\sigma_I^2$ and $\\sigma_H^2$ should be read as \"the heat/ionization resolution for an energy deposit of $E_R$.\"  For the electron recoil band and $\\sigma_{Q\\gamma}$, the arguments for$\\sigma_I^2$ $\\sigma_H^2$ are $E_R$ since for electron recoils, $E_I = E_R$ and $E_H = E_R$.  For nuclear recoils the heat and ionization energy are not identical to the energy $E_R$ and are defined in the section below."
   ]
  },
  {
   "cell_type": "code",
   "execution_count": 2,
   "metadata": {},
   "outputs": [
    {
     "name": "stdout",
     "output_type": "stream",
     "text": [
      "GGA3/NR/4.0/5.556E-02/0.0380/000/0.1493/0.1782/0.9975/\n",
      "GGA3/NR/4.0/5.556E-02/0.0381/000/0.1537/0.1703/0.9948/\n"
     ]
    }
   ],
   "source": [
    "import numpy as np\n",
    "import pandas as pd\n",
    "#from joblib import Memory\n",
    "import matplotlib.pyplot as plt\n",
    "%matplotlib inline \n",
    "import h5py\n",
    "from scipy import optimize\n",
    "import lmfit as lmf\n",
    "#import emcee\n",
    "\n",
    "import sys\n",
    "sys.path.append('../python/')\n",
    "from EdwRes import *\n",
    "from prob_dist import *"
   ]
  },
  {
   "cell_type": "code",
   "execution_count": 3,
   "metadata": {},
   "outputs": [],
   "source": [
    "\n",
    "\n",
    "# GGA3 parameters from Edelweiss tables\n",
    "ion_center_0keV = 1.3\n",
    "ion_guard_0keV = 1.5\n",
    "heat_0keV = 0.4\n",
    "ion_122keV = 3.1 \n",
    "heat_122keV = 2.7\n",
    "aH = 0.0157\n",
    "pars = {\n",
    "    'V' : 4.0,\n",
    "    'eps_eV' : 3.0\n",
    "    }\n",
    "\n"
   ]
  },
  {
   "cell_type": "code",
   "execution_count": 4,
   "metadata": {},
   "outputs": [],
   "source": [
    "from edelweiss_fit import *\n",
    "\n",
    "# import data from Edelweiss\n",
    "resNR_data = pd.read_csv(\"data/edelweiss_NRwidth_GGA3_data.txt\", skiprows=1, \\\n",
    "                       names=['E_recoil', 'sig_NR', 'E_recoil_err', 'sig_NR_err'], \\\n",
    "                       delim_whitespace=True)\n",
    "\n",
    "resER_data = pd.read_csv(\"data/edelweiss_ERwidth_GGA3_data.txt\", skiprows=1, \\\n",
    "                         names=['E_recoil', 'sig_ER', 'sig_ER_err'], \\\n",
    "                         delim_whitespace=True)\n",
    "\n",
    "# the sorting is necessary!\n",
    "# otherwise the mask defined below will select the wrong data\n",
    "resER_data = resER_data.sort_values(by='E_recoil')\n",
    "\n",
    "#print (res_data.head(4))\n",
    "\n",
    "# set the data up for the fits\n",
    "# Edelweiss discards ER points near peaks\n",
    "# and first two NR points since they're affected by the threshold\n",
    "mask = [True, True, False, False, True, True, True, True, True]\n",
    "ER_data = {'Erecoil': resER_data[\"E_recoil\"][mask], 'sigma': resER_data[\"sig_ER\"][mask], 'sigma_err': resER_data[\"sig_ER_err\"][mask]}\n",
    "NR_data = {'Erecoil': resNR_data[\"E_recoil\"][2::], 'sigma': resNR_data[\"sig_NR\"][2::], 'sigma_err': resNR_data[\"sig_NR_err\"][2::]}"
   ]
  },
  {
   "cell_type": "markdown",
   "metadata": {},
   "source": [
    "## Fit with an MCMC method"
   ]
  },
  {
   "cell_type": "markdown",
   "metadata": {},
   "source": [
    "## Find the minimum likelihood\n",
    "\n",
    "When all six parameters are allowed to vary, the solution finds a small value for A and a larger value for B:\n",
    "\n",
    "aH, C, m, scale, A, B = array([1.59557510e-02, 4.01120006e-02, 4.11442471e-05, 1.03493435e+00, 1.16847345e-01, 1.52032678e-01])\n",
    "\n",
    "### Global minimization results\n",
    "Brute: sadly this does not complete in a reasonable time (less than a day)\n",
    "\n",
    "Basinhopping: does not successfully converge on a solution\n",
    "\n",
    "SHGO: overflows occur in the yeild function but it still reports converging successfully with a function value of -53.623 and solution of xl: array([[1.59555935e-02, 4.01182258e-02, 4.10754863e-05, 1.03491851e+00,\n",
    "        1.16818488e-01, 1.51974313e-01]]).\n"
   ]
  },
  {
   "cell_type": "code",
   "execution_count": 5,
   "metadata": {},
   "outputs": [
    {
     "name": "stdout",
     "output_type": "stream",
     "text": [
      "Cms: 0.0401182258\n",
      "m: 4.10754863e-05\n",
      "A: 0.116818488\n",
      "B: 0.151974313\n",
      "aH: 0.0159555935\n",
      "eta: 1.03491851\n"
     ]
    }
   ],
   "source": [
    "import h5py\n",
    "\n",
    "#get Edw fit results for sampling 6 parameters\n",
    "filename = 'data/systematic_error_fits_corr_corrAB.h5'\n",
    "filename = 'data/systematic_error_fits.h5'\n",
    "#remove vars\n",
    "f = h5py.File(filename,'r')\n",
    "#for i in f['mcmc/edwdata_sys_error']:\n",
    "#    print(i)\n",
    "\n",
    "#save the results for the Edw fit\n",
    "path='{}/{}/'.format('mcmc','edwdata_sys_error')\n",
    "\n",
    "Cms = np.asarray(f[path+'Cms'])\n",
    "slope = np.asarray(f[path+'m'])\n",
    "a_yield = np.asarray(f[path+'A'])\n",
    "b_yield = np.asarray(f[path+'B'])\n",
    "aH = np.asarray(f[path+'aH'])\n",
    "scale = np.asarray(f[path+'scale'])\n",
    "samples = np.asarray(f[path+'samples'])\n",
    "sampsize = np.asarray(f[path+'sampsize'])\n",
    "xl = np.asarray(f[path+'Er'])\n",
    "upvec = np.asarray(f[path+'Csig_u'])\n",
    "dnvec = np.asarray(f[path+'Csig_l'])\n",
    "Sigtot = np.asarray(f[path+'Sigss'])\n",
    "Sigss = np.sqrt(Sigtot**2 - (Cms+slope*xl)**2)\n",
    "\n",
    "#print(Cms)\n",
    "#print(samples[0:5,:])\n",
    "f.close()\n",
    "#print(np.shape(samples))\n",
    "print(\"Cms: {}\".format(Cms))\n",
    "print(\"m: {}\".format(slope))\n",
    "print(\"A: {}\".format(a_yield))\n",
    "print(\"B: {}\".format(b_yield))\n",
    "print(\"aH: {}\".format(aH))\n",
    "print(\"eta: {}\".format(scale))"
   ]
  },
  {
   "cell_type": "code",
   "execution_count": 6,
   "metadata": {},
   "outputs": [],
   "source": [
    "# plot the best fit\n",
    "\n",
    "\n",
    "# GGA3 parameters from Edelweiss tables\n",
    "ion_center_0keV = 1.3\n",
    "ion_guard_0keV = 1.5\n",
    "heat_0keV = 0.4\n",
    "ion_122keV = 3.1 \n",
    "heat_122keV = 2.7\n",
    "par_dict = {'V' : scale*4.0,'eps_eV' : 3.0, 'a': a_yield, 'b': b_yield}\n",
    "\n",
    "ref_sigER_func = get_sig_gamma_func(ion_center_0keV, ion_guard_0keV, ion_122keV, heat_0keV, heat_122keV, \\\n",
    "                                par_dict, aH)\n",
    "    \n",
    "ref_sigNR_func = get_sig_nuc_func_alt(ion_center_0keV, ion_guard_0keV, ion_122keV, heat_0keV, heat_122keV, \\\n",
    "                                  par_dict, aH, Cms, slope)"
   ]
  },
  {
   "cell_type": "markdown",
   "metadata": {},
   "source": [
    "# Only the systematic error\n",
    "\n",
    "The above calculation includes both the statistical error (from the uncertainty on the data points) and the systematic error (from the uncertainty on parameters used in the fit like the voltage across the detector and the yield model).\n",
    "\n",
    "In the interest of understanding how future analyses might improve on an estimate of the NR Fano, we examine the uncertainty introduced by the systematic error alone.\n",
    "\n",
    "The statistical error is drawn from stat_uncertainty_C.ipynb."
   ]
  },
  {
   "cell_type": "code",
   "execution_count": 7,
   "metadata": {},
   "outputs": [
    {
     "name": "stdout",
     "output_type": "stream",
     "text": [
      "(40000, 2)\n",
      "(500,)\n"
     ]
    }
   ],
   "source": [
    "# get the data mcmc_fits.h5 from stat_uncertainty_C.ipynb\n",
    "filename_stat_error = 'data/mcmc_fits.h5'\n",
    "f = h5py.File(filename_stat_error,'r')\n",
    "\n",
    "path='{}/{}/'.format('mcmc','edwdata')\n",
    "\n",
    "exCms = np.asarray(f[path+'Cms'])\n",
    "exslope = np.asarray(f[path+'m'])\n",
    "exEr = np.asarray(f[path+'Er'])\n",
    "exCsig_u = np.asarray(f[path+'Csig_u'])\n",
    "exCsig_l = np.asarray(f[path+'Csig_l'])\n",
    "exSigss = np.asarray(f[path+'Sigss'])\n",
    "exsamples = np.asarray(f[path+'samples'])\n",
    "\n",
    "#save the results for the Edw fit\n",
    "path='{}/{}/'.format('mcmc','multiples')\n",
    "\n",
    "Cms_m = np.asarray(f[path+'Cms'])\n",
    "slope_m = np.asarray(f[path+'m'])\n",
    "samples_m = np.asarray(f[path+'samples'])\n",
    "sampsize_m = np.asarray(f[path+'sampsize'])\n",
    "xl_m = np.asarray(f[path+'Er'])\n",
    "upvec_m = np.asarray(f[path+'Csig_u'])\n",
    "dnvec_m = np.asarray(f[path+'Csig_l'])\n",
    "Sigss_m = np.asarray(f[path+'Sigss'])\n",
    "\n",
    "f.close()\n",
    "print(np.shape(samples_m))\n",
    "\n",
    "f.close()\n",
    "\n",
    "print (np.shape(exEr))"
   ]
  },
  {
   "cell_type": "code",
   "execution_count": 8,
   "metadata": {},
   "outputs": [
    {
     "name": "stdout",
     "output_type": "stream",
     "text": [
      "GGA3/NR/4.0/5.556E-02/0.0381/000/\n"
     ]
    }
   ],
   "source": [
    "#get the NR calculations for our yield band\n",
    "import fano_calc as fc\n",
    "Enr,signr = fc.RWCalc(filename='data/res_calc.h5',band='NR',alpha=(1/18.0))\n",
    "\n",
    "#let's make a callable out of the predicted single-scatter resolution\n",
    "import scipy.interpolate as inter\n",
    "\n",
    "sigQnr_c = inter.InterpolatedUnivariateSpline(Enr, signr, k=3)\n",
    "sigQnr_c_v = np.vectorize(sigQnr_c)\n",
    "sigQnr = np.sqrt(sigQnr_c_v(exEr)**2+(exCms+exslope*exEr)**2)"
   ]
  },
  {
   "cell_type": "code",
   "execution_count": 9,
   "metadata": {},
   "outputs": [
    {
     "data": {
      "text/plain": [
       "<ErrorbarContainer object of 3 artists>"
      ]
     },
     "execution_count": 9,
     "metadata": {},
     "output_type": "execute_result"
    },
    {
     "data": {
      "image/png": "[encoded data removed]",
      "text/plain": [
       "<Figure size 432x288 with 1 Axes>"
      ]
     },
     "metadata": {
      "needs_background": "light"
     },
     "output_type": "display_data"
    }
   ],
   "source": [
    "Erecoil_keV = np.linspace(10, 200, 500)\n",
    "\n",
    "plt.plot(xl, ref_sigNR_func(xl), color=\"r\", lw=2, alpha=0.8)\n",
    "plt.plot(xl, upvec, color=\"r\",linestyle=\"--\", lw=2, alpha=0.8)\n",
    "plt.plot(xl, dnvec, color=\"r\",linestyle=\"--\", lw=2, alpha=0.8)\n",
    "\n",
    "# the best-fit is different for the two-parameter (C and m) fit\n",
    "# than for the six-parameter fit\n",
    "\n",
    "#plt.plot(exEr, ref_sigNR_func(exEr), color='k', lw=2, alpha=0.8)\n",
    "a = ref_sigNR_func(exEr) + exCsig_u - sigQnr\n",
    "b = ref_sigNR_func(exEr) - (-exCsig_l + sigQnr)\n",
    "plt.plot(exEr, a, color=\"k\",linestyle=\"--\", lw=2, alpha=0.8)\n",
    "plt.plot(exEr, b, color=\"k\",linestyle=\"--\", lw=2, alpha=0.8)\n",
    "\n",
    "plt.xlim(10, 200)\n",
    "plt.ylim(0.03,0.12)\n",
    "plt.errorbar(NR_data['Erecoil'], NR_data['sigma'], yerr=NR_data['sigma_err'], fmt=\"o\", label=\"data\", capsize=0)"
   ]
  },
  {
   "cell_type": "code",
   "execution_count": 10,
   "metadata": {},
   "outputs": [
    {
     "name": "stderr",
     "output_type": "stream",
     "text": [
      "/Users/villaa/nrFano_paper2019/analysis_documentation/../python/fano_extract.py:31: RuntimeWarning: invalid value encountered in sqrt\n",
      "  retv = np.sqrt(varv(Evec)-(cpsample[0]+Evec*cpsample[1])**2+(csample[1]+Evec*csample[2])**2)\n"
     ]
    }
   ],
   "source": [
    "import fano_extract as fe\n",
    "\n",
    "#get the samples for stat only errors\n",
    "#get one sigma errors\n",
    "\n",
    "#get the energy vector\n",
    "Evec = np.linspace(7.0,200,10)\n",
    "   \n",
    "sampsize=1000\n",
    "exFi = np.zeros((np.shape(Evec)[0],sampsize))\n",
    "i=0\n",
    "for aH_em, Cms_em, m_em, scale_em, A_em, B_em in samples[np.random.randint(len(exsamples), size=sampsize)]:\n",
    "    msfit=samples_m[np.random.randint(len(samples_m), size=1)]\n",
    "    msfit = np.asarray(msfit[0])   \n",
    "    fit = np.asarray([aH_em, Cms_em, m_em, scale_em, A_em, B_em])\n",
    "    Fano= fe.get_root_from_sigvec(Evec,fit,msfit)\n",
    "    exFi[:,i] = Fano\n",
    "    i=i+1\n",
    "    #ax1.plot(Evec, Fi, color=\"blue\", alpha=0.05)\n",
    "    \n",
    "exupvec = np.mean(exFi,axis=1)+np.std(exFi,axis=1)\n",
    "exdnvec = np.mean(exFi,axis=1)-np.std(exFi,axis=1)"
   ]
  },
  {
   "cell_type": "code",
   "execution_count": 11,
   "metadata": {},
   "outputs": [],
   "source": [
    "#extract for sys errors all\n",
    "\n"
   ]
  }
 ],
 "metadata": {
  "celltoolbar": "Tags",
  "kernelspec": {
   "display_name": "NRFano",
   "language": "python",
   "name": "fano_pub"
  },
  "language_info": {
   "codemirror_mode": {
    "name": "ipython",
    "version": 3
   },
   "file_extension": ".py",
   "mimetype": "text/x-python",
   "name": "python",
   "nbconvert_exporter": "python",
   "pygments_lexer": "ipython3",
   "version": "3.8.13"
  }
 },
 "nbformat": 4,
 "nbformat_minor": 4
}
