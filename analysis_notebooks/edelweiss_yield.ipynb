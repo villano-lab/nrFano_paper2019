{
 "cells": [
  {
   "cell_type": "code",
   "execution_count": 1,
   "metadata": {},
   "outputs": [],
   "source": [
    "import pandas as pd\n",
    "import numpy as np\n",
    "import matplotlib.pyplot as plt\n",
    "%matplotlib inline "
   ]
  },
  {
   "cell_type": "code",
   "execution_count": 2,
   "metadata": {},
   "outputs": [
    {
     "name": "stdout",
     "output_type": "stream",
     "text": [
      "   Erecoil  Erecoil_err  Yield  Yield_err\n",
      "0       94            3  0.347   0.013186\n",
      "1       80            2  0.328   0.012792\n",
      "2       76            2  0.301   0.021070\n",
      "3      123            4  0.337   0.012469\n",
      "4      104            3  0.314   0.013188\n",
      "5      100            3  0.314   0.013816\n"
     ]
    }
   ],
   "source": [
    "yield_data = pd.read_csv(\"data/edelweiss_Ge_yield.txt\", skiprows=1, \\\n",
    "                       names=['Erecoil', 'Erecoil_err', 'Yield', 'Yield_err'], \\\n",
    "                       delim_whitespace=True)\n",
    "\n",
    "# convert yield data from percent to fraction\n",
    "yield_data['Yield'] = yield_data['Yield']/100.0\n",
    "yield_data['Yield_err'] = yield_data['Yield_err']*yield_data['Yield']/100.0\n",
    "print (yield_data)"
   ]
  },
  {
   "cell_type": "code",
   "execution_count": 3,
   "metadata": {},
   "outputs": [
    {
     "data": {
      "text/plain": [
       "(10, 40)"
      ]
     },
     "execution_count": 3,
     "metadata": {},
     "output_type": "execute_result"
    },
    {
     "data": {
      "image/png": "[encoded data removed]",
      "text/plain": [
       "<Figure size 432x288 with 1 Axes>"
      ]
     },
     "metadata": {
      "needs_background": "light"
     },
     "output_type": "display_data"
    }
   ],
   "source": [
    "Erecoil_arr = np.linspace(0, 140, 200)\n",
    "\n",
    "plt.plot(Erecoil_arr, 16*np.power(Erecoil_arr, 0.18))\n",
    "plt.errorbar(yield_data['Erecoil'], 100*yield_data['Yield'], xerr=yield_data['Erecoil_err'], yerr=100*yield_data['Yield_err'], fmt='o')\n",
    "plt.xlim(0, 140)\n",
    "plt.ylim(10, 40)"
   ]
  },
  {
   "cell_type": "code",
   "execution_count": 4,
   "metadata": {},
   "outputs": [],
   "source": [
    "import sys\n",
    "sys.path.append('../python/')\n",
    "from EdwRes import *\n",
    "\n",
    "def log_likelihood(theta, yield_data):\n",
    "    A, B = theta\n",
    "    x_yield, y_yield, yerr_yield = yield_data['Erecoil'], yield_data['Yield'], yield_data['Yield_err']\n",
    "    \n",
    "    model_yield = Q_avg(x_yield, A, B)\n",
    "    sigma2_yield = yerr_yield**2\n",
    "    \n",
    "    return -0.5*(np.sum((y_yield-model_yield)**2/sigma2_yield + np.log(2*np.pi*sigma2_yield)))"
   ]
  },
  {
   "cell_type": "code",
   "execution_count": 7,
   "metadata": {},
   "outputs": [
    {
     "name": "stdout",
     "output_type": "stream",
     "text": [
      " final_simplex: (array([[0.23598113, 0.07086512],\n",
      "       [0.23607428, 0.07078224],\n",
      "       [0.23603611, 0.07081325]]), array([-17.07117362, -17.07117357, -17.0711735 ]))\n",
      "           fun: -17.071173619864105\n",
      "       message: 'Optimization terminated successfully.'\n",
      "          nfev: 114\n",
      "           nit: 60\n",
      "        status: 0\n",
      "       success: True\n",
      "             x: array([0.23598113, 0.07086512])\n"
     ]
    }
   ],
   "source": [
    "from scipy.optimize import minimize\n",
    "np.random.seed(42)\n",
    "\n",
    "# start at about the minimum\n",
    "A, B = 0.16, 0.18\n",
    "\n",
    "nll = lambda *args: -log_likelihood(*args)\n",
    "initial = np.array([A, B]) + 0.001*np.random.randn(2)\n",
    "soln = minimize(nll, initial, method='Nelder-Mead', args=(yield_data), options={'adaptive':True})\n",
    "print (soln)\n",
    "A_fit, B_fit = soln.x"
   ]
  },
  {
   "cell_type": "code",
   "execution_count": 9,
   "metadata": {},
   "outputs": [
    {
     "data": {
      "text/plain": [
       "<ErrorbarContainer object of 3 artists>"
      ]
     },
     "execution_count": 9,
     "metadata": {},
     "output_type": "execute_result"
    },
    {
     "data": {
      "image/png": "[encoded data removed]",
      "text/plain": [
       "<Figure size 432x288 with 1 Axes>"
      ]
     },
     "metadata": {
      "needs_background": "light"
     },
     "output_type": "display_data"
    }
   ],
   "source": [
    "Erecoil_arr = np.linspace(0, 140, 200)\n",
    "\n",
    "plt.plot(Erecoil_arr, A_fit*np.power(Erecoil_arr, B_fit))\n",
    "plt.errorbar(yield_data['Erecoil'], yield_data['Yield'], xerr=yield_data['Erecoil_err'], yerr=yield_data['Yield_err'], fmt='o')\n",
    "#plt.xlim(0, 140)\n",
    "#plt.ylim(10, 40)"
   ]
  },
  {
   "cell_type": "code",
   "execution_count": null,
   "metadata": {},
   "outputs": [],
   "source": []
  }
 ],
 "metadata": {
  "kernelspec": {
   "display_name": "Python [conda env:.conda-nr_fano] *",
   "language": "python",
   "name": "conda-env-.conda-nr_fano-py"
  },
  "language_info": {
   "codemirror_mode": {
    "name": "ipython",
    "version": 3
   },
   "file_extension": ".py",
   "mimetype": "text/x-python",
   "name": "python",
   "nbconvert_exporter": "python",
   "pygments_lexer": "ipython3",
   "version": "3.6.8"
  }
 },
 "nbformat": 4,
 "nbformat_minor": 4
}
