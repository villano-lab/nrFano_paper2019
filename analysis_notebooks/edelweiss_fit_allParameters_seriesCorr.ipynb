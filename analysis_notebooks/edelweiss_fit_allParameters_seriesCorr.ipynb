{
 "cells": [
  {
   "cell_type": "markdown",
   "metadata": {},
   "source": [
    "## Summary: Edelweiss C and its Error\n",
    "\n",
    "This notebook is a copy of edelweiss_C_systematicErrors_allParameters.ipynb, but using more accurate calculations for the NR and ER bands.\n",
    "\n",
    "## Band Widths\n",
    "Edelweiss parametrizes their band widths for all detectors (see eq'ns 9, 10, and 11 from the above paper).  \n",
    "\n",
    "$$\\sigma_{Q\\gamma}(E_R) = \\frac{1 + V/\\epsilon}{E_R}\\sqrt{\\sigma_I^2 + \\sigma_H^2}$$\n",
    "\n",
    "$$\\sigma_{Qn}(E_R) = \\sqrt{C^2 + \\frac{1}{E^2_R} \\left( \\left(1+\\frac{V}{\\epsilon}\\langle Q_n\\rangle\\right)^2\\sigma_I^2 + \\left( 1+\\frac{V}{\\epsilon}\\right)^2\\langle Q_n\\rangle^2\\sigma_H^2\\right)} $$\n",
    "\n",
    "where $C$ is a fitted constant; $\\epsilon$ is the average energy needed to create a single electron-hole pair in germanium (3 eV); and $\\langle Q_n \\rangle$, $\\sigma_I^2$, and $\\sigma_H^2$ are all functions of the true recoil energy $E_R$. The yield $\\langle Q_n \\rangle = 0.16 E_R^{0.18}$.  The terms $\\sigma_I^2$ and $\\sigma_H^2$ should be read as \"the heat/ionization resolution for an energy deposit of $E_R$.\"  For the electron recoil band and $\\sigma_{Q\\gamma}$, the arguments for$\\sigma_I^2$ $\\sigma_H^2$ are $E_R$ since for electron recoils, $E_I = E_R$ and $E_H = E_R$.  For nuclear recoils the heat and ionization energy are not identical to the energy $E_R$ and are defined in the section below."
   ]
  },
  {
   "cell_type": "code",
   "execution_count": 1,
   "metadata": {},
   "outputs": [],
   "source": [
    "import numpy as np\n",
    "import pandas as pd\n",
    "from joblib import Memory\n",
    "import matplotlib.pyplot as plt\n",
    "%matplotlib inline \n",
    "import h5py\n",
    "from scipy import optimize\n",
    "import lmfit as lmf\n",
    "import emcee\n",
    "\n",
    "import sys\n",
    "sys.path.append('../python/')\n",
    "from EdwRes import *\n",
    "from prob_dist import *"
   ]
  },
  {
   "cell_type": "code",
   "execution_count": 2,
   "metadata": {},
   "outputs": [],
   "source": [
    "# GGA3 parameters from Edelweiss tables\n",
    "ion_center_0keV = 1.3\n",
    "ion_guard_0keV = 1.5\n",
    "heat_0keV = 0.4\n",
    "ion_122keV = 3.1 \n",
    "heat_122keV = 2.7\n",
    "aH = 0.0157\n",
    "pars = {\n",
    "    'V' : 4.0,\n",
    "    'eps_eV' : 3.0\n",
    "    }"
   ]
  },
  {
   "cell_type": "code",
   "execution_count": 3,
   "metadata": {},
   "outputs": [],
   "source": [
    "from edelweiss_fit import *\n",
    "\n",
    "# import data from Edelweiss\n",
    "resNR_data = pd.read_csv(\"data/edelweiss_NRwidth_GGA3_data.txt\", skiprows=1, \\\n",
    "                       names=['E_recoil', 'sig_NR', 'E_recoil_err', 'sig_NR_err'], \\\n",
    "                       delim_whitespace=True)\n",
    "\n",
    "resER_data = pd.read_csv(\"data/edelweiss_ERwidth_GGA3_data.txt\", skiprows=1, \\\n",
    "                         names=['E_recoil', 'sig_ER', 'sig_ER_err'], \\\n",
    "                         delim_whitespace=True)\n",
    "\n",
    "# the sorting is necessary!\n",
    "# otherwise the mask defined below will select the wrong data\n",
    "resER_data = resER_data.sort_values(by='E_recoil')\n",
    "\n",
    "#print (res_data.head(4))\n",
    "\n",
    "# set the data up for the fits\n",
    "# Edelweiss discards ER points near peaks\n",
    "# and first two NR points since they're affected by the threshold\n",
    "mask = [True, True, False, False, True, True, True, True, True]\n",
    "ER_data = {'Erecoil': resER_data[\"E_recoil\"][mask], 'sigma': resER_data[\"sig_ER\"][mask], 'sigma_err': resER_data[\"sig_ER_err\"][mask]}\n",
    "NR_data = {'Erecoil': resNR_data[\"E_recoil\"][2::], 'sigma': resNR_data[\"sig_NR\"][2::], 'sigma_err': resNR_data[\"sig_NR_err\"][2::]}"
   ]
  },
  {
   "cell_type": "markdown",
   "metadata": {},
   "source": [
    "## Fit with an MCMC method"
   ]
  },
  {
   "cell_type": "code",
   "execution_count": 4,
   "metadata": {},
   "outputs": [],
   "source": [
    "def log_likelihood(theta, ER_data, NR_data):\n",
    "    aH, C, m, scale, A, B = theta\n",
    "    V = np.abs(scale)*4.0\n",
    "    \n",
    "    # extract the data\n",
    "    x_ER, y_ER, yerr_ER = ER_data['Erecoil'], ER_data['sigma'], ER_data['sigma_err']\n",
    "    x_NR, y_NR, yerr_NR = NR_data['Erecoil'], NR_data['sigma'], NR_data['sigma_err']\n",
    "    \n",
    "    # expected parameter values and widths\n",
    "    # uncertainty on aH is the uncertainty on the parameter aH when fitting only the ER band\n",
    "    # scale width estimated by assuming a 10 mV error on V and 0.5 eV error on epsilon\n",
    "    # information for A and B from Astroparticle Physics 14 (2001) 329±337\n",
    "    # Anthony's function use the FWHM version of aH\n",
    "    exp_aH = 0.016*2*np.sqrt(2*np.log(2))\n",
    "    exp_aH_sig = exp_aH*0.046\n",
    "    exp_scale = 1\n",
    "    exp_scale_sig = 0.17\n",
    "    exp_A = 0.16\n",
    "    exp_A_sig = 0.07\n",
    "    exp_B = 0.18\n",
    "    exp_B_sig = 0.1\n",
    "\n",
    "    ## get the ER prediction for the input parameters\n",
    "    model_ER = [np.sqrt(series_NRQ_var(x,V=V,aH=aH,A=1.0,B=0.0,alpha=0.0000001)) for x in x_ER]\n",
    "    sigma2_ER = yerr_ER**2\n",
    "    \n",
    "    ## get the NR prediction for the input parameters\n",
    "    # series_NRQ_var_corr1(Er=10.0,F=0.0,V=4.0,aH=0.0381,alpha=(1/18.0),A=0.16,B=0.18,label='GGA3',corr1file='data/sigdiff_test.h5')\n",
    "    # series_NRQ_var_corr1 returns the *variance*\n",
    "    model_NR_0 = [series_NRQ_var_corr1(x, 0, V, aH, 1/18.0, A, B, 'GGA3') for x in x_NR] \n",
    "    model_NR = np.sqrt(np.power(C + m*x_NR, 2) + model_NR_0)\n",
    "    sigma2_NR = yerr_NR**2\n",
    "    \"\"\"    \n",
    "    model_yield = Q_avg(x_yield, A, B)\n",
    "    sigma2_yield = yerr_yield**2\n",
    "    \"\"\"\n",
    "    \n",
    "    return -0.5*(np.sum((y_NR-model_NR)**2/sigma2_NR + np.log(2*np.pi*sigma2_NR)) \\\n",
    "                 + np.sum((y_ER-model_ER)**2/sigma2_ER + np.log(2*np.pi*sigma2_ER)) \\\n",
    "                 + (aH - exp_aH)**2/exp_aH_sig**2 \\\n",
    "                 + (scale - exp_scale)**2/exp_scale_sig**2 \\\n",
    "                 + (A - exp_A)**2/exp_A_sig**2 \\\n",
    "                 + (B - exp_B)**2/exp_B_sig**2)"
   ]
  },
  {
   "cell_type": "markdown",
   "metadata": {},
   "source": [
    "## Find the minimum likelihood\n",
    "\n",
    "When all six parameters are allowed to vary, the solution finds a small value for A and a larger value for B:\n",
    "\n",
    "aH, C, m, scale, A, B = array([1.59557510e-02, 4.01120006e-02, 4.11442471e-05, 1.03493435e+00, 1.16847345e-01, 1.52032678e-01])\n",
    "\n",
    "### Global minimization results\n",
    "Brute: sadly this does not complete in a reasonable time (less than a day)\n",
    "\n",
    "Basinhopping: does not successfully converge on a solution\n",
    "\n",
    "SHGO: overflows occur in the yeild function but it still reports converging successfully with a function value of -53.623 and solution of xl: array([[1.59555935e-02, 4.01182258e-02, 4.10754863e-05, 1.03491851e+00,\n",
    "        1.16818488e-01, 1.51974313e-01]]).\n"
   ]
  },
  {
   "cell_type": "code",
   "execution_count": 5,
   "metadata": {
    "tags": [
     "parameters"
    ]
   },
   "outputs": [],
   "source": [
    "# if fit_test is false then the fit will be run\n",
    "fit_test = False\n",
    "\n",
    "# if mcmc_test is false then the MCMC sampler will be run\n",
    "mcmc_test = True"
   ]
  },
  {
   "cell_type": "code",
   "execution_count": 6,
   "metadata": {},
   "outputs": [
    {
     "name": "stdout",
     "output_type": "stream",
     "text": [
      "aH:  0.03861904873850757\n",
      "log-likelihood:  48.12614058627514\n"
     ]
    },
    {
     "data": {
      "text/plain": [
       "(0.04, 0.1)"
      ]
     },
     "execution_count": 6,
     "metadata": {},
     "output_type": "execute_result"
    },
    {
     "data": {
      "image/png": "[encoded data removed]",
      "text/plain": [
       "<Figure size 1080x432 with 2 Axes>"
      ]
     },
     "metadata": {
      "needs_background": "light"
     },
     "output_type": "display_data"
    }
   ],
   "source": [
    "fig, axs = plt.subplots(1,2,figsize=(15,6))\n",
    "# the ER-band fit\n",
    "ax1 = axs[0]\n",
    "ax2 = axs[1]\n",
    "\n",
    "# plot the initial parameters\n",
    "# GGA3 parameters from Edelweiss tables\n",
    "# all the parameters affect the points as expected\n",
    "#aH, C, m, scale, A, B = 0.0164*2*np.sqrt(2*np.log(2)), 0.0348, 9.39E-5, 1.0, 0.16, 0.18\n",
    "aH, C, m, scale, A, B = 0.0164*2*np.sqrt(2*np.log(2)), 0.0348, 9.39E-5, 1.0, 0.16, 0.18\n",
    "V = scale*4.0\n",
    "print (\"aH: \", aH)\n",
    "print (\"log-likelihood: \", log_likelihood((aH, C, m, scale, A, B), ER_data, NR_data))\n",
    "\n",
    "## get the ER prediction for the input parameters\n",
    "model_ER = [np.sqrt(series_NRQ_var(x,V=V,aH=aH,A=1.0,B=0.0,alpha=0.0000001)) for x in ER_data['Erecoil']]\n",
    "\n",
    "## get the NR prediction for the input parameters\n",
    "# series_NRQ_var_corr1(Er=10.0,F=0.0,V=4.0,aH=0.0381,alpha=(1/18.0),A=0.16,B=0.18,label='GGA3',corr1file='data/sigdiff_test.h5')\n",
    "# series_NRQ_var_corr1 returns the *variance*\n",
    "model_NR_0 = [series_NRQ_var_corr1(x, 0, V, aH, 1/18.0, A, B, 'GGA3') for x in NR_data['Erecoil']] \n",
    "model_NR = np.sqrt(np.power(C + m*NR_data['Erecoil'], 2) + model_NR_0)\n",
    "\n",
    "ax1.plot(ER_data['Erecoil'], model_ER, 'r*', alpha=0.8, markersize=12)\n",
    "ax2.plot(NR_data['Erecoil'], model_NR, 'r*', alpha=0.8, markersize=12)\n",
    "\n",
    "# plot the data\n",
    "ax1.errorbar(ER_data['Erecoil'], ER_data['sigma'], yerr=ER_data['sigma_err'], fmt=\"o\", label=\"data\")\n",
    "ax2.errorbar(NR_data['Erecoil'], NR_data['sigma'], yerr=NR_data['sigma_err'], fmt=\"o\", label=\"data\")\n",
    "\n",
    "#ax1.plot(E_recoil_arr, sig_er_func(E_recoil_arr), label=\"Edelweiss ER resolution, C=0.0313\")\n",
    "ax1.set(xlabel=\"Recoil energy (keV)\", ylabel=\"1-sigma width of ER band\")\n",
    "ax2.set(xlabel=\"Recoil energy (keV)\", ylabel=\"1-sigma width of NR band\")\n",
    "    \n",
    "plt.xlim(10, 200)\n",
    "ax2.set_ylim(0.04, 0.1)"
   ]
  },
  {
   "cell_type": "code",
   "execution_count": 7,
   "metadata": {},
   "outputs": [
    {
     "data": {
      "text/plain": [
       "[<matplotlib.lines.Line2D at 0x1d0c54a1e10>]"
      ]
     },
     "execution_count": 7,
     "metadata": {},
     "output_type": "execute_result"
    },
    {
     "data": {
      "image/png": "[encoded data removed]",
      "text/plain": [
       "<Figure size 1080x432 with 4 Axes>"
      ]
     },
     "metadata": {
      "needs_background": "light"
     },
     "output_type": "display_data"
    }
   ],
   "source": [
    "fig, axs = plt.subplots(2,2,figsize=(15,6))\n",
    "(ax1, ax2), (ax3, ax4) = axs\n",
    "\n",
    "aH, C, m, scale, A, B = 0.0164*2*np.sqrt(2*np.log(2)), 0.0348, 9.39E-5, 1.0, 0.16, 0.18\n",
    "aH_min = aH*(1-0.2)\n",
    "aH_max = aH*(1+0.2)\n",
    "aH_arr = np.linspace(aH_min, aH_max, 10)\n",
    "logll_arr = [-log_likelihood((x, C, m, scale, A, B), ER_data, NR_data) for x in aH_arr]\n",
    "ax1.plot(aH_arr, logll_arr, '*')\n",
    "\n",
    "C_min, C_max = [0.0, 0.048] \n",
    "C_arr = np.linspace(C_min, C_max, 10)\n",
    "logll_arr_C = [-log_likelihood((aH, x, m, scale, A, B), ER_data, NR_data) for x in C_arr]\n",
    "ax2.plot(C_arr, logll_arr_C, '*')\n",
    "\n",
    "scale_min, scale_max = [0, 1.2]\n",
    "scale_arr = np.linspace(scale_min, scale_max, 10)\n",
    "logll_arr_scale = [-log_likelihood((aH, C, m, x, A, B), ER_data, NR_data) for x in scale_arr]\n",
    "ax3.plot(scale_arr, logll_arr_scale, '*')"
   ]
  },
  {
   "cell_type": "code",
   "execution_count": 8,
   "metadata": {},
   "outputs": [
    {
     "name": "stdout",
     "output_type": "stream",
     "text": [
      "     fun: -53.25976678040015\n",
      "    funl: array([-53.25976678])\n",
      " message: 'Optimization terminated successfully.'\n",
      "    nfev: 559\n",
      "     nit: 2\n",
      "   nlfev: 494\n",
      "   nlhev: 0\n",
      "   nljev: 39\n",
      " success: True\n",
      "       x: array([3.75915355e-02, 3.91363112e-02, 5.25852969e-05, 1.02252631e+00,\n",
      "       9.51212967e-02, 1.45393161e-01])\n",
      "      xl: array([[3.75915355e-02, 3.91363112e-02, 5.25852969e-05, 1.02252631e+00,\n",
      "        9.51212967e-02, 1.45393161e-01]])\n"
     ]
    }
   ],
   "source": [
    "if not fit_test:\n",
    "    # start at about the minimum\n",
    "    aH, C, m, scale, A, B = 0.0164*2*np.sqrt(2*np.log(2)), 0.0348, 9.39E-5, 1.0, 0.16, 0.18\n",
    "    aH_min = aH*(1-0.2)\n",
    "    aH_max = aH*(1+0.2)    \n",
    "\n",
    "    from scipy import optimize\n",
    "    #np.random.seed(42)\n",
    "\n",
    "    nll = lambda *args: -log_likelihood(*args)\n",
    "    initial = np.array([aH, C, m, scale, A, B]) #+ 0.001*np.random.randn(2)\n",
    "    #soln = optimize.minimize(nll, initial, method='Nelder-Mead', args=(ER_data, NR_data), options={'adaptive':True})\n",
    "    #aH_fit, C_fit, m_fit, scale_fit, A_fit, B_fit = soln.x\n",
    "    \n",
    "    #soln = optimize.brute(nll, ([0.0135, 0.018], [0.024, 0.048], [-0.0001, 0.0002], [0.9, 1.2], [0.06, 0.24], [0.06, 0.24]), args=(ER_data, NR_data))\n",
    "    #soln = optimize.basinhopping(nll, initial, minimizer_kwargs={'args': (ER_data, NR_data)})\n",
    "    soln = optimize.shgo(nll, ([aH_min, aH_max], [0.024, 0.048], [-0.0001, 0.0002], [0.9, 1.2], [0.06, 0.24], [0.06, 0.24]), args=(ER_data, NR_data))\n",
    "    aH_fit, C_fit, m_fit, scale_fit, A_fit, B_fit = soln.x\n",
    "\n",
    "    print (soln)\n",
    "else:\n",
    "    aH_fit, C_fit, m_fit, scale_fit, A_fit, B_fit = np.array([1.59555935e-02, 4.01182258e-02, 4.10754863e-05, 1.03491851e+00, 1.16818488e-01, 1.51974313e-01])"
   ]
  },
  {
   "cell_type": "code",
   "execution_count": 9,
   "metadata": {},
   "outputs": [
    {
     "name": "stdout",
     "output_type": "stream",
     "text": [
      "log-likelihood:  53.25976678040015\n"
     ]
    },
    {
     "data": {
      "text/plain": [
       "(0.04, 0.1)"
      ]
     },
     "execution_count": 9,
     "metadata": {},
     "output_type": "execute_result"
    },
    {
     "data": {
      "image/png": "[encoded data removed]",
      "text/plain": [
       "<Figure size 1080x432 with 2 Axes>"
      ]
     },
     "metadata": {
      "needs_background": "light"
     },
     "output_type": "display_data"
    }
   ],
   "source": [
    "print (\"log-likelihood: \", log_likelihood((aH_fit, C_fit, m_fit, scale_fit, A_fit, B_fit), ER_data, NR_data))\n",
    "\n",
    "fig, axs = plt.subplots(1,2,figsize=(15,6))\n",
    "# the ER-band fit\n",
    "ax1 = axs[0]\n",
    "ax2 = axs[1]\n",
    "\n",
    "# plot the best fit\n",
    "# GGA3 parameters from Edelweiss tables\n",
    "# all the parameters affect the points as expected\n",
    "V_fit = abs(scale_fit)*4.0\n",
    "\n",
    "## get the ER prediction for the input parameters\n",
    "## note that you should not use A_fit and B_fit for the ER model!\n",
    "model_ER = [np.sqrt(series_NRQ_var(x,V=V_fit,aH=aH_fit,A=1.0,B=0.0,alpha=0.0000001)) for x in ER_data['Erecoil']]\n",
    "\n",
    "## get the NR prediction for the input parameters\n",
    "# series_NRQ_var_corr1(Er=10.0,F=0.0,V=4.0,aH=0.0381,alpha=(1/18.0),A=0.16,B=0.18,label='GGA3',corr1file='data/sigdiff_test.h5')\n",
    "# series_NRQ_var_corr1 returns the *variance*\n",
    "model_NR_0 = [series_NRQ_var_corr1(x, 0, V_fit, aH_fit, 1/18.0, A_fit, B_fit, 'GGA3') for x in NR_data['Erecoil']] \n",
    "model_NR = np.sqrt(np.power(C_fit + m_fit*NR_data['Erecoil'], 2) + model_NR_0)\n",
    "\n",
    "ax1.plot(ER_data['Erecoil'], model_ER, 'r*', alpha=0.8, markersize=12)\n",
    "ax2.plot(NR_data['Erecoil'], model_NR, 'r*', alpha=0.8, markersize=12)\n",
    "\n",
    "# plot the data\n",
    "ax1.errorbar(ER_data['Erecoil'], ER_data['sigma'], yerr=ER_data['sigma_err'], fmt=\"o\", label=\"data\")\n",
    "ax2.errorbar(NR_data['Erecoil'], NR_data['sigma'], yerr=NR_data['sigma_err'], fmt=\"o\", label=\"data\")\n",
    "\n",
    "#ax1.plot(E_recoil_arr, sig_er_func(E_recoil_arr), label=\"Edelweiss ER resolution, C=0.0313\")\n",
    "ax1.set(xlabel=\"Recoil energy (keV)\", ylabel=\"1-sigma width of ER band\")\n",
    "ax2.set(xlabel=\"Recoil energy (keV)\", ylabel=\"1-sigma width of NR band\")\n",
    "    \n",
    "plt.xlim(10, 200)\n",
    "ax2.set_ylim(0.04, 0.1)"
   ]
  },
  {
   "cell_type": "code",
   "execution_count": null,
   "metadata": {},
   "outputs": [],
   "source": []
  }
 ],
 "metadata": {
  "celltoolbar": "Tags",
  "kernelspec": {
   "display_name": "Python 3",
   "language": "python",
   "name": "python3"
  },
  "language_info": {
   "codemirror_mode": {
    "name": "ipython",
    "version": 3
   },
   "file_extension": ".py",
   "mimetype": "text/x-python",
   "name": "python",
   "nbconvert_exporter": "python",
   "pygments_lexer": "ipython3",
   "version": "3.6.8"
  }
 },
 "nbformat": 4,
 "nbformat_minor": 4
}
