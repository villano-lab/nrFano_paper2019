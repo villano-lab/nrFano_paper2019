{
 "cells": [
  {
   "cell_type": "markdown",
   "metadata": {},
   "source": [
    "## Summary: Edelweiss C and its Error\n",
    "\n",
    "This notebook is a copy of edelweiss_C_systematicErrors_allParameters.ipynb, but using more accurate calculations for the NR and ER bands.\n",
    "\n",
    "## Band Widths\n",
    "Edelweiss parametrizes their band widths for all detectors (see eq'ns 9, 10, and 11 from the above paper).  \n",
    "\n",
    "$$\\sigma_{Q\\gamma}(E_R) = \\frac{1 + V/\\epsilon}{E_R}\\sqrt{\\sigma_I^2 + \\sigma_H^2}$$\n",
    "\n",
    "$$\\sigma_{Qn}(E_R) = \\sqrt{C^2 + \\frac{1}{E^2_R} \\left( \\left(1+\\frac{V}{\\epsilon}\\langle Q_n\\rangle\\right)^2\\sigma_I^2 + \\left( 1+\\frac{V}{\\epsilon}\\right)^2\\langle Q_n\\rangle^2\\sigma_H^2\\right)} $$\n",
    "\n",
    "where $C$ is a fitted constant; $\\epsilon$ is the average energy needed to create a single electron-hole pair in germanium (3 eV); and $\\langle Q_n \\rangle$, $\\sigma_I^2$, and $\\sigma_H^2$ are all functions of the true recoil energy $E_R$. The yield $\\langle Q_n \\rangle = 0.16 E_R^{0.18}$.  The terms $\\sigma_I^2$ and $\\sigma_H^2$ should be read as \"the heat/ionization resolution for an energy deposit of $E_R$.\"  For the electron recoil band and $\\sigma_{Q\\gamma}$, the arguments for$\\sigma_I^2$ $\\sigma_H^2$ are $E_R$ since for electron recoils, $E_I = E_R$ and $E_H = E_R$.  For nuclear recoils the heat and ionization energy are not identical to the energy $E_R$ and are defined in the section below."
   ]
  },
  {
   "cell_type": "code",
   "execution_count": 1,
   "metadata": {},
   "outputs": [
    {
     "name": "stdout",
     "output_type": "stream",
     "text": [
      "GGA3/NR/4.0/5.556E-02/0.0380/000/0.1493/0.1782/0.9975/\n",
      "GGA3/NR/4.0/5.556E-02/0.0381/000/0.1537/0.1703/0.9948/\n"
     ]
    }
   ],
   "source": [
    "import numpy as np\n",
    "from scipy.special import erf\n",
    "from scipy.stats import multivariate_normal\n",
    "import pandas as pd\n",
    "from joblib import Memory\n",
    "import matplotlib.pyplot as plt\n",
    "%matplotlib inline \n",
    "import h5py\n",
    "from scipy import optimize\n",
    "import lmfit as lmf\n",
    "import emcee\n",
    "\n",
    "import sys\n",
    "sys.path.append('../python/')\n",
    "from EdwRes import *\n",
    "from prob_dist import *"
   ]
  },
  {
   "cell_type": "code",
   "execution_count": 2,
   "metadata": {},
   "outputs": [],
   "source": [
    "# GGA3 parameters from Edelweiss tables\n",
    "ion_center_0keV = 1.3\n",
    "ion_guard_0keV = 1.5\n",
    "heat_0keV = 0.4\n",
    "ion_122keV = 3.1 \n",
    "heat_122keV = 2.7\n",
    "aH = 0.0157\n",
    "pars = {\n",
    "    'V' : 4.0,\n",
    "    'eps_eV' : 3.0\n",
    "    }"
   ]
  },
  {
   "cell_type": "code",
   "execution_count": 3,
   "metadata": {},
   "outputs": [],
   "source": [
    "from edelweiss_fit import *\n",
    "\n",
    "# import data from Edelweiss\n",
    "resNR_data = pd.read_csv(\"data/edelweiss_NRwidth_GGA3_data.txt\", skiprows=1, \\\n",
    "                       names=['E_recoil', 'sig_NR', 'E_recoil_err', 'sig_NR_err'], \\\n",
    "                       delim_whitespace=True)\n",
    "\n",
    "resER_data = pd.read_csv(\"data/edelweiss_ERwidth_GGA3_data.txt\", skiprows=1, \\\n",
    "                         names=['E_recoil', 'sig_ER', 'sig_ER_err'], \\\n",
    "                         delim_whitespace=True)\n",
    "\n",
    "# the sorting is necessary!\n",
    "# otherwise the mask defined below will select the wrong data\n",
    "resER_data = resER_data.sort_values(by='E_recoil')\n",
    "\n",
    "#print (res_data.head(4))\n",
    "\n",
    "# set the data up for the fits\n",
    "# Edelweiss discards ER points near peaks\n",
    "# and first two NR points since they're affected by the threshold\n",
    "mask = [True, True, False, False, True, True, True, True, True]\n",
    "ER_data = {'Erecoil': resER_data[\"E_recoil\"][mask], 'sigma': resER_data[\"sig_ER\"][mask], 'sigma_err': resER_data[\"sig_ER_err\"][mask]}\n",
    "NR_data = {'Erecoil': resNR_data[\"E_recoil\"][2::], 'sigma': resNR_data[\"sig_NR\"][2::], 'sigma_err': resNR_data[\"sig_NR_err\"][2::]}"
   ]
  },
  {
   "cell_type": "markdown",
   "metadata": {},
   "source": [
    "## Fit with an MCMC method\n",
    "\n",
    "### Understanding the ER and NR likelihood functions\n",
    "The model used for the ER yield width is `series_NRQ_var` which is the moment expansion of the variance out to $E^{-6}$.  The parameters passed to this function set the yield to one. \n",
    "\n",
    "The model used for for the NR yield width is `series_NRQ_var_corr1` with an additional linear-in-energy width added in quadrature.  The function `series_NRQ_var_corr1` uses the function modeling the ER band but with a different yield plus an energy-dependent correction that makes the value at the \"nominal\" parameters equal to the exact calculated value."
   ]
  },
  {
   "cell_type": "code",
   "execution_count": 7,
   "metadata": {},
   "outputs": [],
   "source": [
    "def log_likelihood(theta, ER_data, NR_data):\n",
    "    sig0, F, bER = theta\n",
    "    V = 4.0\n",
    "    \n",
    "    # extract the data\n",
    "    x_ER, y_ER, yerr_ER = ER_data['Erecoil'], ER_data['sigma'], ER_data['sigma_err']\n",
    "    x_NR, y_NR, yerr_NR = NR_data['Erecoil'], NR_data['sigma'], NR_data['sigma_err']\n",
    "    \n",
    "    # expected parameter values and widths\n",
    "    # uncertainty on aH is the uncertainty on the parameter aH when fitting only the ER band\n",
    "    # scale width estimated by assuming a 10 mV error on V and 0.5 eV error on epsilon\n",
    "    # information for A and B from Astroparticle Physics 14 (2001) 329±337\n",
    "    # Anthony's function use the FWHM version of aH\n",
    "    #exp_aH = 0.016*2*np.sqrt(2*np.log(2))\n",
    "    #exp_aH_sig = exp_aH*0.046\n",
    "    exp_scale = 1\n",
    "    exp_scale_sig = 0.17\n",
    "    #exp_A = 0.16\n",
    "    #exp_A_sig = 0.07\n",
    "    #exp_B = 0.18\n",
    "    #exp_B_sig = 0.1\n",
    "    #exp_Y = 0.3\n",
    "    #exp_Y_sig = 0.1\n",
    "    \n",
    "    ## get the ER prediction for the input parameters\n",
    "    model_ER = [np.sqrt(series_ERQ_var_gen(x,sig0=sig0,F=F,b=bER,V=V)) for x in x_ER]\n",
    "    sigma2_ER = yerr_ER**2\n",
    "    \n",
    "    ## get the NR prediction for the input parameters\n",
    "    # series_NRQ_var_corr1(Er=10.0,F=0.0,V=4.0,aH=0.0381,alpha=(1/18.0),A=0.16,B=0.18,label='GGA3',corr1file='data/sigdiff_test.h5')\n",
    "    # series_NRQ_var_corr1 returns the *variance*\n",
    "    #model_NR_0 = [series_NRQ_var_corr1(x, 0, V, aH, 1/18.0, A, B, 'GGA3') for x in x_NR] \n",
    "    #model_NR = np.sqrt(np.power(C + m*x_NR, 2) + model_NR_0)\n",
    "    #sigma2_NR = yerr_NR**2\n",
    "    \n",
    "\n",
    "    return -0.5*(np.sum((y_ER-model_ER)**2/sigma2_ER + np.log(2*np.pi*sigma2_ER)))\n",
    "\n",
    "def log_prior(theta):\n",
    "    sig0,F,bER = theta\n",
    "    V = 4.0\n",
    "    if 0.0 < sig0 < np.inf and 0.0 < bER < np.inf and 0.0 < F < np.inf:\n",
    "        return 0.0\n",
    "    return -np.inf\n",
    "\n",
    "def log_probability(theta, ER_data, NR_data):\n",
    "    lp = log_prior(theta)\n",
    "    if not np.isfinite(lp):\n",
    "        return -np.inf\n",
    "    return lp + log_likelihood(theta, ER_data, NR_data)"
   ]
  },
  {
   "cell_type": "markdown",
   "metadata": {},
   "source": [
    "## Find the minimum likelihood\n",
    "\n",
    "When all six parameters are allowed to vary, the solution finds a small value for A and a larger value for B:\n",
    "\n",
    "aH, C, m, scale, A, B = array([1.59557510e-02, 4.01120006e-02, 4.11442471e-05, 1.03493435e+00, 1.16847345e-01, 1.52032678e-01])\n",
    "\n",
    "### Global minimization results\n",
    "Brute: sadly this does not complete in a reasonable time (less than a day)\n",
    "\n",
    "Basinhopping: does not successfully converge on a solution\n",
    "\n",
    "SHGO: overflows occur in the yeild function but it still reports converging successfully with a function value of -53.623 and solution of xl: array([[1.59555935e-02, 4.01182258e-02, 4.10754863e-05, 1.03491851e+00,\n",
    "        1.16818488e-01, 1.51974313e-01]]).\n"
   ]
  },
  {
   "cell_type": "code",
   "execution_count": 5,
   "metadata": {
    "tags": [
     "parameters"
    ]
   },
   "outputs": [],
   "source": [
    "# if fit_test is false then the fit will be run\n",
    "fit_test = False\n",
    "\n",
    "# if mcmc_test is false then the MCMC sampler will be run\n",
    "mcmc_test = False\n",
    "\n",
    "# if do_sample_NR_test is false then fit parameters will be sampled from MCMC\n",
    "do_sample_NR_test = False"
   ]
  },
  {
   "cell_type": "code",
   "execution_count": 14,
   "metadata": {},
   "outputs": [
    {
     "name": "stdout",
     "output_type": "stream",
     "text": [
      "0.8598727862047931 0.03635807632261393\n",
      "log-likelihood:  17.179329316798388\n"
     ]
    },
    {
     "data": {
      "text/plain": [
       "(10.0, 200.0)"
      ]
     },
     "execution_count": 14,
     "metadata": {},
     "output_type": "execute_result"
    },
    {
     "data": {
      "image/png": "[encoded data removed]",
      "text/plain": [
       "<Figure size 1500x600 with 1 Axes>"
      ]
     },
     "metadata": {},
     "output_type": "display_data"
    }
   ],
   "source": [
    "fig, axs = plt.subplots(1,1,figsize=(15,6))\n",
    "# the ER-band fit\n",
    "ax1 = axs\n",
    "\n",
    "#get appropriate initial parameters\n",
    "#get the resolutions for GGA3\n",
    "\n",
    "aH=0.0381\n",
    "V=4.0\n",
    "C=0.0\n",
    "sigHv,sigIv,sigQerv,sigH_NRv,sigI_NRv,sigQnrv = getEdw_det_res('GGA3',V,'data/edw_res_data.txt',aH,C)\n",
    "sig0=np.sqrt(sigHv(0.0)**2+sigIv(0.0)**2)\n",
    "bER = np.sqrt(sigHv(1.0)**2+sigIv(1.0)**2 - sig0**2)*2\n",
    "print(sig0,bER)\n",
    "\n",
    "\n",
    "\n",
    "# plot the initial parameters\n",
    "#sig0, F, bER= , 0.01731809, 0.0381\n",
    "F = 0.1\n",
    "V = 4.0\n",
    "print (\"log-likelihood: \", log_likelihood((sig0, F, bER), ER_data, NR_data))\n",
    "\n",
    "## get the ER prediction for the input parameters\n",
    "model_ER = [np.sqrt(series_ERQ_var_gen(x,sig0=sig0,F=F,b=bER,V=4.0)) for x in ER_data['Erecoil']]\n",
    "\n",
    "\n",
    "ax1.plot(ER_data['Erecoil'], model_ER, 'r*', alpha=0.8, markersize=12)\n",
    "\n",
    "\n",
    "# plot the data\n",
    "ax1.errorbar(ER_data['Erecoil'], ER_data['sigma'], yerr=ER_data['sigma_err'], fmt=\"o\", label=\"data\")\n",
    "\n",
    "\n",
    "#ax1.plot(E_recoil_arr, sig_er_func(E_recoil_arr), label=\"Edelweiss ER resolution, C=0.0313\")\n",
    "ax1.set(xlabel=\"Recoil energy (keV)\", ylabel=\"1-sigma width of ER band\")\n",
    "\n",
    "    \n",
    "plt.xlim(10, 200)\n"
   ]
  },
  {
   "cell_type": "code",
   "execution_count": 7,
   "metadata": {},
   "outputs": [
    {
     "name": "stdout",
     "output_type": "stream",
     "text": [
      "0.014706133759623683 0.022059200639435523\n",
      "     fun: -29.44836467731961\n",
      "    funl: array([-29.44836468, -29.28821633])\n",
      " message: 'Optimization terminated successfully.'\n",
      "    nfev: 93\n",
      "     nit: 2\n",
      "   nlfev: 84\n",
      "   nlhev: 0\n",
      "   nljev: 17\n",
      " success: True\n",
      "       x: array([0.00230675, 0.01731809, 1.05      ])\n",
      "      xl: array([[0.00230675, 0.01731809, 1.05      ],\n",
      "       [0.00209344, 0.01838267, 0.97398144]])\n",
      "The number of function evaluations:  93\n",
      "The number of function evaluations in local minima:  84\n"
     ]
    }
   ],
   "source": [
    "# Final result: [3.80087771e-02, 3.22428020e-02, 1.23069856e-04, 9.99751973e-01, 1.49279368e-01, 1.78235616e-01]\n",
    "\n",
    "# the number of function evaluations is about 560\n",
    "if not fit_test:\n",
    "    # start at about the minimum\n",
    "    aH, C, m, scale, A, B = 0.0164*2*np.sqrt(2*np.log(2)), 0.0348, 9.39E-5, 1.0, 0.16, 0.18\n",
    "    aH_min = aH*(1-0.2)\n",
    "    aH_max = aH*(1+0.2)    \n",
    "    aER, bER, scale= 0, 0.476*0.0164*2*np.sqrt(2*np.log(2)), 1\n",
    "    bER_min = bER*(1-0.2)\n",
    "    bER_max = bER*(1+0.2) \n",
    "    print(bER_min,bER_max)\n",
    "\n",
    "    from scipy import optimize\n",
    "    #np.random.seed(42)\n",
    "\n",
    "    nll = lambda *args: -log_likelihood(*args)\n",
    "    initial = np.array([aER, bER, scale]) #+ 0.001*np.random.randn(2)\n",
    "    #soln = optimize.minimize(nll, initial, method='Nelder-Mead', args=(ER_data, NR_data), options={'adaptive':True})\n",
    "    #aH_fit, C_fit, m_fit, scale_fit, A_fit, B_fit = soln.x\n",
    "    \n",
    "    #soln = optimize.brute(nll, ([0.0135, 0.018], [0.024, 0.048], [-0.0001, 0.0002], [0.9, 1.2], [0.06, 0.24], [0.06, 0.24]), args=(ER_data, NR_data))\n",
    "    #soln = optimize.basinhopping(nll, initial, minimizer_kwargs={'args': (ER_data, NR_data)})\n",
    "    soln = optimize.shgo(nll, ([0.0,1.0],[bER_min, bER_max], [0.9, 1.2]), args=(ER_data, NR_data))\n",
    "    #soln = optimize.shgo(nll, ([0.0,1.0],[bER_min, bER_max], [1.0, 1.0001]), args=(ER_data, NR_data))\n",
    "    aER_fit, bER_fit, scale_fit = soln.x\n",
    "\n",
    "    with open('fit_results_ER.txt', 'w') as f:\n",
    "        print (soln, file=f)\n",
    "    print (soln)\n",
    "    print (\"The number of function evaluations: \", soln.nfev)\n",
    "    print (\"The number of function evaluations in local minima: \", soln.nlfev)\n",
    "else:\n",
    "    aER_fit, bER_fit, scale_fit = np.array([0.00230675, 0.01731809, 1.05])"
   ]
  },
  {
   "cell_type": "code",
   "execution_count": 8,
   "metadata": {},
   "outputs": [
    {
     "name": "stdout",
     "output_type": "stream",
     "text": [
      "F = 0.00235\n",
      "F = 0.05089\n",
      "0.9825918367346941\n",
      "1.3333333333333333\n",
      "0.002306746710784874\n",
      "0.017318092722000626\n"
     ]
    }
   ],
   "source": [
    "frac=4/3.0\n",
    "print(\"F = {:2.5f}\".format(aER_fit/((4.0*frac/(1+frac)**2)+3e-3)))\n",
    "print(\"F = {:2.5f}\".format(0.05/((4.0*frac/(1+frac)**2)+3e-3)))\n",
    "print(((4.0*frac/(1+frac)**2)+3e-3))\n",
    "print(frac)\n",
    "print(aER_fit)\n",
    "print(bER_fit)"
   ]
  },
  {
   "cell_type": "code",
   "execution_count": 9,
   "metadata": {},
   "outputs": [
    {
     "name": "stdout",
     "output_type": "stream",
     "text": [
      "log-likelihood:  29.44836467731961\n"
     ]
    },
    {
     "data": {
      "text/plain": [
       "(0.035, 0.1)"
      ]
     },
     "execution_count": 9,
     "metadata": {},
     "output_type": "execute_result"
    },
    {
     "data": {
      "image/png": "[encoded data removed]",
      "text/plain": [
       "<Figure size 1500x600 with 1 Axes>"
      ]
     },
     "metadata": {},
     "output_type": "display_data"
    }
   ],
   "source": [
    "print (\"log-likelihood: \", log_likelihood((aER_fit,bER_fit,scale_fit), ER_data, NR_data))\n",
    "\n",
    "fig, axs = plt.subplots(1,1,figsize=(15,6))\n",
    "# the ER-band fit\n",
    "ax1 = axs\n",
    "\n",
    "\n",
    "# plot the best fit\n",
    "# GGA3 parameters from Edelweiss tables\n",
    "# all the parameters affect the points as expected\n",
    "V_fit = abs(scale_fit)*4.0\n",
    "\n",
    "## get the ER prediction for the input parameters\n",
    "## note that you should not use A_fit and B_fit for the ER model!\n",
    "model_ER = [np.sqrt(series_ERQ_var(x, a=aER_fit, b=bER_fit, V=V_fit, label='GGA3')) for x in ER_data['Erecoil']]\n",
    "\n",
    "\n",
    "ax1.plot(ER_data['Erecoil'], model_ER, 'r*', alpha=0.8, markersize=12)\n",
    "\n",
    "\n",
    "# plot the data\n",
    "ax1.errorbar(ER_data['Erecoil'], ER_data['sigma'], yerr=ER_data['sigma_err'], fmt=\"o\", label=\"data\")\n",
    "\n",
    "\n",
    "#ax1.plot(E_recoil_arr, sig_er_func(E_recoil_arr), label=\"Edelweiss ER resolution, C=0.0313\")\n",
    "ax1.set(xlabel=\"Recoil energy (keV)\", ylabel=\"1-sigma width of ER band\")\n",
    "    \n",
    "plt.xlim(10, 200)\n",
    "ax1.set_ylim(0.035, 0.1)"
   ]
  },
  {
   "cell_type": "code",
   "execution_count": null,
   "metadata": {},
   "outputs": [
    {
     "name": "stderr",
     "output_type": "stream",
     "text": [
      "/var/folders/kh/m5tq0q4534xf72fn3_9g20zc0000gn/T/ipykernel_1813/831470154.py:26: RuntimeWarning: invalid value encountered in sqrt\n",
      "  model_ER = [np.sqrt(series_ERQ_var(x, aER, bER, V, 'GGA3')) for x in x_ER]\n"
     ]
    }
   ],
   "source": [
    "filename = 'data/edelweiss_ER_systematicErrors_sampler_nll_gausPriorV.h5'\n",
    "\n",
    "# random walks starting near the minimum\n",
    "ndim, nwalkers = 3, 100\n",
    "nburn = 500\n",
    "nsteps = 5000\n",
    "    \n",
    "if not mcmc_test:\n",
    "    pos0 = [[aER_fit, bER_fit, scale_fit] + 1e-8*np.random.randn(ndim) for i in range(nwalkers)]\n",
    "    sampler = emcee.EnsembleSampler(nwalkers, ndim, log_likelihood, args=(ER_data, NR_data))\n",
    "    pos, prob, state = sampler.run_mcmc(pos0, nburn, storechain=False)\n",
    "    sampler.reset()\n",
    "    sampler.run_mcmc(pos, nsteps)\n",
    "    samples = sampler.chain\n",
    "    \n",
    "else:\n",
    "    f = h5py.File(filename,'r')\n",
    "\n",
    "    # need to store data in an array:\n",
    "    # The sampler will now have a chains attribute \n",
    "    # which is an array with shape (Nwalker,N,Ndim) \n",
    "    # where N is the number of interations (500 in our inital run)\n",
    "    # and Ndim is the number of fit parameters\n",
    "    path='{}/{}/'.format('mcmc','sampler')\n",
    "\n",
    "    aER = np.asarray(f[path+'aER'])\n",
    "    bER = np.asarray(f[path+'bER'])\n",
    "    scale = np.asarray(f[path+'scale'])\n",
    "    samples = np.asarray(f[path+'samples'])\n",
    "\n",
    "    f.close()"
   ]
  },
  {
   "cell_type": "code",
   "execution_count": null,
   "metadata": {},
   "outputs": [],
   "source": [
    "import os.path\n",
    "\n",
    "if not mcmc_test:\n",
    "    #save the MCMC results\n",
    "    path='{}/{}/'.format('mcmc','sampler')\n",
    "\n",
    "    #remove vars\n",
    "    f = h5py.File(filename,'a')\n",
    "    exaER = path+'aER' in f\n",
    "    exbER = path+'bER' in f\n",
    "    exscale = path+'scale' in f\n",
    "    exsamp = path+'samples' in f\n",
    "\n",
    "    if exaER:\n",
    "      del f[path+'aER']\n",
    "    if exbER:\n",
    "      del f[path+'bER']\n",
    "    if exscale:\n",
    "      del f[path+'scale']\n",
    "    if exsamp:\n",
    "      del f[path+'samples']\n",
    "\n",
    "    dset = f.create_dataset(path+'aER',np.shape(aER_fit),dtype=np.dtype('float64').type)\n",
    "    dset[...] = aER_fit\n",
    "    dset = f.create_dataset(path+'bER',np.shape(bER_fit),dtype=np.dtype('float64').type)\n",
    "    dset[...] = bER_fit\n",
    "    dset = f.create_dataset(path+'scale',np.shape(scale_fit),dtype=np.dtype('float64').type)\n",
    "    dset[...] = scale_fit\n",
    "    dset = f.create_dataset(path+'samples',np.shape(samples),dtype=np.dtype('float64').type, \\\n",
    "    compression=\"gzip\",compression_opts=9)\n",
    "    dset[...] = samples\n",
    "\n",
    "    f.close()"
   ]
  },
  {
   "cell_type": "code",
   "execution_count": null,
   "metadata": {},
   "outputs": [],
   "source": [
    "fig, axes = plt.subplots(ndim, figsize=(10, 4), sharex=True)\n",
    "\n",
    "print (np.shape(samples))\n",
    "print (np.shape(samples[:, :, 1]))\n",
    "labels = [\"aER\", \"bER\",\"scale\"]\n",
    "for i in range(ndim):\n",
    "    ax = axes[i]\n",
    "    # when you pass ax.plot a pair, the columns represent seperate data sets\n",
    "    ax.plot(np.transpose(samples[:, :, i]), \"k\", alpha=0.03)\n",
    "    ax.set_xlim(0, np.shape(samples)[1])\n",
    "    ax.set_ylabel(labels[i])\n",
    "    ax.yaxis.set_label_coords(-0.1, 0.5)\n",
    "\n",
    "axes[-1].set_xlabel(\"step number\");"
   ]
  },
  {
   "cell_type": "code",
   "execution_count": null,
   "metadata": {},
   "outputs": [],
   "source": [
    "import corner\n",
    "print(np.shape(samples))\n",
    "samples_corner = samples[:, 300:, :].reshape((-1, ndim))\n",
    "print(np.shape(samples_corner))\n",
    "fig = corner.corner(samples_corner, labels=[\"a\", \"b\", \"V/4.0\"],\n",
    "                      truths=[aER_fit, bER_fit, scale_fit])\n",
    "\n",
    "if False:\n",
    "    plt.savefig('pics/corner_threeParameter_fit_ER.png')"
   ]
  },
  {
   "cell_type": "code",
   "execution_count": null,
   "metadata": {},
   "outputs": [],
   "source": [
    "## View some fits\n",
    "\n",
    "fig, axs = plt.subplots(1,1,figsize=(15,6))\n",
    "# the ER-band fit\n",
    "ax1 = axs\n",
    "\n",
    "\n",
    "Erecoil = np.linspace(10, 200, 500)\n",
    "print(np.shape(samples))\n",
    "for aER, bER, scale in samples_corner[np.random.randint(len(samples_corner), size=100)]:\n",
    "    V = scale*4.0\n",
    "    \n",
    "    model_ER = [np.sqrt(series_ERQ_var(x, aER, bER, V, 'GGA3')) for x in Erecoil]\n",
    "    \n",
    "    \n",
    "    ax1.plot(Erecoil, model_ER, color=\"k\", alpha=0.05)\n",
    "\n",
    "# plot the best fit\n",
    "V_fit = scale_fit*4.0\n",
    "model_ER_fit = [np.sqrt(series_ERQ_var(x, aER_fit, bER_fit, 4.0*scale_fit, 'GGA3')) for x in Erecoil]\n",
    "\n",
    "\n",
    "ax1.plot(Erecoil, model_ER_fit, color=\"r\", lw=2, alpha=0.8)\n",
    "\n",
    "\n",
    "# plot the data\n",
    "ax1.errorbar(ER_data['Erecoil'], ER_data['sigma'], yerr=ER_data['sigma_err'], fmt=\"o\", label=\"data\")\n",
    "\n",
    "\n",
    "#ax1.plot(E_recoil_arr, sig_er_func(E_recoil_arr), label=\"Edelweiss ER resolution, C=0.0313\")\n",
    "ax1.set(xlabel=\"Recoil energy (keV)\", ylabel=\"1-sigma width of ER band\")\n",
    "\n",
    "    \n",
    "plt.xlim(10, 200)\n"
   ]
  },
  {
   "cell_type": "code",
   "execution_count": 16,
   "metadata": {},
   "outputs": [],
   "source": [
    "filename = 'data/systematic_error_fits_corr_corrAB.h5'\n",
    "if not do_sample_NR_test:\n",
    "    sampsize=10000\n",
    "    Erecoil_keV = np.linspace(10, 200, 50)\n",
    "    evec = np.zeros((np.size(Erecoil_keV),sampsize))\n",
    "\n",
    "    for i, (aH, C, m, scale, A, B) in enumerate(samples_corner[np.random.randint(len(samples_corner), size=sampsize)]):\n",
    "        V = scale*4.0\n",
    "        model_NR_0 = [series_NRQ_var_corr1(x, 0, V, aH, 1/18.0, A, B, 'GGA3') for x in Erecoil_keV] \n",
    "        model_NR = np.sqrt(np.power(C + m*Erecoil, 2) + model_NR_0)\n",
    "\n",
    "        v = model_NR\n",
    "        #print(np.std(v))\n",
    "        #print(np.mean(v))\n",
    "        evec[:,i] = v\n",
    "\n",
    "    # use the best-fit function instead of the mean\n",
    "    # to calculate the up and down limits:\n",
    "    # find the height at which 68% of the function is contained\n",
    "    # the upper and lower are the values that cross that height\n",
    "    #upvec = #np.mean(evec,axis=1)+np.std(evec,axis=1)\n",
    "    #dnvec = #np.mean(evec,axis=1)-np.std(evec,axis=1)\n",
    "    upvec = []\n",
    "    dnvec = []\n",
    "    for sample in evec:\n",
    "        #print (np.size(sample))\n",
    "        #print(sample)\n",
    "        interval = hpd(sample, 0.6827)\n",
    "        #print (interval)\n",
    "        upvec.append(interval[0])\n",
    "        dnvec.append(interval[1])\n",
    "        \n",
    "    ## calculate the best-fit values\n",
    "    model_NR_0 = [series_NRQ_var_corr1(x, 0, V_fit, aH_fit, 1/18.0, A_fit, B_fit, 'GGA3') for x in Erecoil_keV] \n",
    "    model_NR_fit = np.sqrt(np.power(C_fit + m_fit*Erecoil, 2) + model_NR_0)\n",
    "\n",
    "else:\n",
    "    f = h5py.File(filename,'r')\n",
    "    path='{}/{}/'.format('mcmc','edwdata_sys_error')\n",
    "\n",
    "    Erecoil_keV = np.asarray(f[path+'Er'])\n",
    "    upvec = np.asarray(f[path+'Csig_u'])\n",
    "    dnvec = np.asarray(f[path+'Csig_l'])\n",
    "    model_NR_fit = np.asarray(f[path+'Sigss'])\n",
    "\n",
    "    f.close()"
   ]
  },
  {
   "cell_type": "code",
   "execution_count": 17,
   "metadata": {},
   "outputs": [],
   "source": [
    "if not do_sample_NR_test:\n",
    "    #save the results for the MS fit\n",
    "    path='{}/{}/'.format('mcmc','edwdata_sys_error')\n",
    "\n",
    "    #remove vars\n",
    "    f = h5py.File(filename,'a')\n",
    "    exaH = path+'aH' in f\n",
    "    exCms = path+'Cms' in f\n",
    "    exm = path+'m' in f\n",
    "    exscale = path+'scale' in f\n",
    "    exA = path+'A' in f\n",
    "    exB = path+'B' in f\n",
    "    exsamp = path+'samples' in f\n",
    "    exsampsize = path+'sampsize' in f\n",
    "    exEr = path+'Er' in f\n",
    "    exCsig_u = path+'Csig_u' in f\n",
    "    exCsig_l = path+'Csig_l' in f\n",
    "    exSigss = path+'Sigss' in f\n",
    "\n",
    "    if exaH:\n",
    "      del f[path+'aH']\n",
    "    if exCms:\n",
    "      del f[path+'Cms']\n",
    "    if exm:\n",
    "      del f[path+'m']\n",
    "    if exscale:\n",
    "      del f[path+'scale']\n",
    "    if exA:\n",
    "      del f[path+'A']\n",
    "    if exB:\n",
    "      del f[path+'B']\n",
    "    if exsamp:\n",
    "      del f[path+'samples']\n",
    "    if exsampsize:\n",
    "      del f[path+'sampsize']\n",
    "    if exEr:\n",
    "      del f[path+'Er']\n",
    "    if exCsig_u:\n",
    "      del f[path+'Csig_u']\n",
    "    if exCsig_l:\n",
    "      del f[path+'Csig_l']\n",
    "    if exSigss:\n",
    "      del f[path+'Sigss']\n",
    "\n",
    "    # save the fit parameters\n",
    "    dset = f.create_dataset(path+'aH',np.shape(aH_fit),dtype=np.dtype('float64').type)\n",
    "    dset[...] = aH_fit\n",
    "    dset = f.create_dataset(path+'Cms',np.shape(C_fit),dtype=np.dtype('float64').type)\n",
    "    dset[...] = C_fit\n",
    "    dset = f.create_dataset(path+'m',np.shape(m_fit),dtype=np.dtype('float64').type)\n",
    "    dset[...] = m_fit\n",
    "    dset = f.create_dataset(path+'scale',np.shape(scale_fit),dtype=np.dtype('float64').type)\n",
    "    dset[...] = scale_fit\n",
    "    dset = f.create_dataset(path+'A',np.shape(A_fit),dtype=np.dtype('float64').type)\n",
    "    dset[...] = A_fit\n",
    "    dset = f.create_dataset(path+'B',np.shape(B_fit),dtype=np.dtype('float64').type)\n",
    "    dset[...] = B_fit\n",
    "    \n",
    "    # save the MCMC samples\n",
    "    dset = f.create_dataset(path+'samples',np.shape(samples_corner),dtype=np.dtype('float64').type, \\\n",
    "    compression=\"gzip\",compression_opts=9)\n",
    "    dset[...] = samples_corner\n",
    "    dset = f.create_dataset(path+'sampsize',np.shape(sampsize),dtype=np.dtype('float64').type)\n",
    "    dset[...] = sampsize\n",
    "    \n",
    "    # save the with of the NR band\n",
    "    dset = f.create_dataset(path+'Er',np.shape(Erecoil_keV),dtype=np.dtype('float64').type, \\\n",
    "    compression=\"gzip\")\n",
    "    dset[...] = Erecoil_keV\n",
    "    dset = f.create_dataset(path+'Csig_u',np.shape(upvec),dtype=np.dtype('float64').type, \\\n",
    "    compression=\"gzip\",compression_opts=9)\n",
    "    dset[...] = upvec\n",
    "    dset = f.create_dataset(path+'Csig_l',np.shape(dnvec),dtype=np.dtype('float64').type, \\\n",
    "    compression=\"gzip\",compression_opts=9)\n",
    "    dset[...] = dnvec\n",
    "    dset = f.create_dataset(path+'Sigss',np.shape(Erecoil_keV),dtype=np.dtype('float64').type, \\\n",
    "    compression=\"gzip\",compression_opts=9)\n",
    "    dset[...] = model_NR_fit\n",
    "\n",
    "    f.close()"
   ]
  },
  {
   "cell_type": "code",
   "execution_count": 18,
   "metadata": {},
   "outputs": [
    {
     "data": {
      "text/plain": [
       "<ErrorbarContainer object of 3 artists>"
      ]
     },
     "execution_count": 18,
     "metadata": {},
     "output_type": "execute_result"
    },
    {
     "data": {
      "image/png": "[encoded data removed]",
      "text/plain": [
       "<Figure size 432x288 with 1 Axes>"
      ]
     },
     "metadata": {
      "needs_background": "light"
     },
     "output_type": "display_data"
    }
   ],
   "source": [
    "#plt.plot(Erecoil_keV, model_NR, color=\"r\", lw=2, alpha=0.8)\n",
    "plt.plot(Erecoil_keV, model_NR_fit, color=\"r\", lw=2, alpha=0.8)\n",
    "plt.plot(Erecoil_keV, upvec, color=\"r\",linestyle=\"--\", lw=2, alpha=0.8)\n",
    "plt.plot(Erecoil_keV, dnvec, color=\"r\",linestyle=\"--\", lw=2, alpha=0.8)\n",
    "\n",
    "plt.xlim(10, 200)\n",
    "plt.ylim(0.03,0.12)\n",
    "plt.errorbar(NR_data['Erecoil'], NR_data['sigma'], yerr=NR_data['sigma_err'], fmt=\"o\", label=\"data\", capsize=0)"
   ]
  }
 ],
 "metadata": {
  "celltoolbar": "Tags",
  "kernelspec": {
   "display_name": "Python (fano_old_emcee)",
   "language": "python",
   "name": "fano_pub_old_emcee"
  },
  "language_info": {
   "codemirror_mode": {
    "name": "ipython",
    "version": 3
   },
   "file_extension": ".py",
   "mimetype": "text/x-python",
   "name": "python",
   "nbconvert_exporter": "python",
   "pygments_lexer": "ipython3",
   "version": "3.8.0"
  }
 },
 "nbformat": 4,
 "nbformat_minor": 4
}
