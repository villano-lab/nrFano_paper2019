{
 "cells": [
  {
   "cell_type": "markdown",
   "metadata": {},
   "source": [
    "# The difference between the Edelweiss resolution function and the true Yield variance\n",
    "\n",
    "## The problem\n",
    "We perform the fit to the data using an approximation to the yield variance, not the true yield variance.  This begs the question, \"does this impact our answer significantly?\"\n",
    "\n",
    "## What this notebook investigates\n",
    "This notebook samples the posterior distribution and, for each parameter set sampled, stores the difference between the true yield and the estimate used by the fit.\n",
    "\n",
    "This notebook focuses on a single energy.v"
   ]
  },
  {
   "cell_type": "code",
   "execution_count": 1,
   "metadata": {},
   "outputs": [
    {
     "name": "stdout",
     "output_type": "stream",
     "text": [
      "GGA3/NR/4.0/5.556E-02/0.0380/000/0.1493/0.1782/0.9975/\n",
      "GGA3/NR/4.0/5.556E-02/0.0381/000/0.1537/0.1703/0.9948/\n"
     ]
    }
   ],
   "source": [
    "import matplotlib.pyplot as plt\n",
    "%matplotlib inline\n",
    "import h5py\n",
    "import numpy as np\n",
    "import pandas as pd\n",
    "from astropy.table import Table, Column, vstack\n",
    "from astropy.io.misc.hdf5 import read_table_hdf5, write_table_hdf5\n",
    "\n",
    "import sys\n",
    "sys.path.append('../python/')\n",
    "from EdwRes import *\n",
    "from prob_dist import *\n",
    "from checkDifference_yieldVariance import *"
   ]
  },
  {
   "cell_type": "code",
   "execution_count": 2,
   "metadata": {},
   "outputs": [
    {
     "name": "stdout",
     "output_type": "stream",
     "text": [
      "['data/yield_accuracy_Erecoil_24.50_keV_all_corrAB_Aug2.h5', 'data/yield_accuracy_Erecoil_34.22_keV_all_corrAB_Aug2.h5', 'data/yield_accuracy_Erecoil_44.26_keV_all_corrAB_Aug2.h5', 'data/yield_accuracy_Erecoil_58.40_keV_all_corrAB_Aug2.h5', 'data/yield_accuracy_Erecoil_97.72_keV_all_corrAB_Aug2.h5']\n"
     ]
    }
   ],
   "source": [
    "# We'll look at the Er values of the data points\n",
    "# import data from Edelweiss\n",
    "resNR_data = pd.read_csv(\"data/edelweiss_NRwidth_GGA3_data.txt\", skiprows=1, \\\n",
    "                       names=['E_recoil', 'sig_NR', 'E_recoil_err', 'sig_NR_err'], \\\n",
    "                       delim_whitespace=True)\n",
    "\n",
    "# the sorting is necessary!\n",
    "# otherwise the mask defined below will select the wrong data\n",
    "resNR_data = resNR_data.sort_values(by='E_recoil')\n",
    "NR_data = {'Erecoil': resNR_data[\"E_recoil\"][2::], 'sigma': resNR_data[\"sig_NR\"][2::], 'sigma_err': resNR_data[\"sig_NR_err\"][2::]}\n",
    "Er = np.sort(NR_data['Erecoil'])\n",
    "Erecoil = Er[0]\n",
    "#print (NR_data['Erecoil'])\n",
    "#print (NR_data['sigma'])\n",
    "#print (NR_data['sigma_err'])\n",
    "#print (len(samples))\n",
    "#print(np.random.randint(len(samples), size=10))\n",
    "\n",
    "filenames = []\n",
    "for Erecoil in NR_data['Erecoil']:\n",
    "    filename = 'data/yield_accuracy_Erecoil_%.2f_keV_all_corrAB_Aug2.h5' % Erecoil\n",
    "    filenames.append(filename)\n",
    "    \n",
    "print (filenames)"
   ]
  },
  {
   "cell_type": "code",
   "execution_count": 3,
   "metadata": {},
   "outputs": [],
   "source": [
    "# read the data into a pandas dataframe\n",
    "df_24keV = pd.read_hdf(filenames[0], key='table')\n",
    "df_34keV = pd.read_hdf(filenames[1], key='table')\n",
    "df_44keV = pd.read_hdf(filenames[2], key='table')\n",
    "df_58keV = pd.read_hdf(filenames[3], key='table')\n",
    "df_97keV = pd.read_hdf(filenames[4], key='table')\n",
    "#df_97keV.drop_duplicates()\n",
    "\n",
    "df_24keV['Yield'] = df_24keV['A']*np.power(df_24keV['energy_recoil_keV'], df_24keV['B'])\n",
    "df_34keV['Yield'] = df_34keV['A']*np.power(df_34keV['energy_recoil_keV'], df_34keV['B'])\n",
    "df_44keV['Yield'] = df_44keV['A']*np.power(df_44keV['energy_recoil_keV'], df_44keV['B'])\n",
    "df_58keV['Yield'] = df_58keV['A']*np.power(df_58keV['energy_recoil_keV'], df_58keV['B'])\n",
    "df_97keV['Yield'] = df_97keV['A']*np.power(df_97keV['energy_recoil_keV'], df_97keV['B'])"
   ]
  },
  {
   "cell_type": "code",
   "execution_count": 4,
   "metadata": {},
   "outputs": [
    {
     "name": "stdout",
     "output_type": "stream",
     "text": [
      "0.9881916830492861\n",
      "coefficents:  [0.00552431 0.00133703 0.01633244 0.02117115]\n",
      "intercept:  -0.007662520580006483\n",
      "[-4.98203281e-06]\n",
      "CALCULATION\n",
      "intercept: -0.007662520580006483\n",
      "coef X X0 = 0.0055243 X 0.0381135 = 0.0002106\n",
      "coef X X0 = 0.0013370 X 0.9947786 = 0.0013300\n",
      "coef X X0 = 0.0163324 X 0.1537376 = 0.0025109\n",
      "coef X X0 = 0.0211711 X 0.1703277 = 0.0036060\n",
      "-4.982032810407766e-06\n"
     ]
    }
   ],
   "source": [
    "from sklearn.linear_model import LinearRegression\n",
    "\n",
    "mask = df_24keV['true_yield_sig'].notnull()\n",
    "y = df_24keV[mask]['true_yield_sig'] - df_24keV[mask]['cor1_yield_sig']\n",
    "X = df_24keV[mask][['aH', 'scale', 'A', 'B']]\n",
    "\n",
    "reg = LinearRegression().fit(X, y)\n",
    "\n",
    "print(reg.score(X, y))\n",
    "\n",
    "print (\"coefficents: \", reg.coef_)\n",
    "print (\"intercept: \", reg.intercept_)\n",
    "\n",
    "aH, scale, A, B = 0.0381134613, 0.994778557, 0.153737587, 0.170327657\n",
    "X0 = np.array([[aH, scale, A, B]])\n",
    "print(reg.predict(X0))\n",
    "\n",
    "\n",
    "predicted=0\n",
    "print('CALCULATION')\n",
    "print('intercept: {}'.format(reg.intercept_))\n",
    "for i,coef in enumerate(reg.coef_):\n",
    "    #print(i)\n",
    "    print('coef X X0 = {:01.7f} X {:01.7f} = {:01.7f}'.format(coef,X0[0,i],coef*X0[0,i]))\n",
    "    #print(X0[0,i])\n",
    "    predicted+=coef*X0[0,i]\n",
    "    \n",
    "predicted+=reg.intercept_\n",
    "print(predicted)"
   ]
  },
  {
   "cell_type": "code",
   "execution_count": 5,
   "metadata": {},
   "outputs": [
    {
     "name": "stdout",
     "output_type": "stream",
     "text": [
      "0.9883018033806901\n",
      "coefficents:  [0.00891606 0.00139528 0.013981   0.01819466]\n",
      "intercept:  -0.006976876162577476\n",
      "[-5.97786977e-07]\n",
      "-5.977869772712946e-07\n"
     ]
    }
   ],
   "source": [
    "mask = df_34keV['true_yield_sig'].notnull()\n",
    "y = df_34keV[mask]['true_yield_sig'] - df_34keV[mask]['cor1_yield_sig']\n",
    "X = df_34keV[mask][['aH', 'scale', 'A', 'B']]\n",
    "\n",
    "reg = LinearRegression().fit(X, y)\n",
    "\n",
    "print(reg.score(X, y))\n",
    "\n",
    "print (\"coefficents: \", reg.coef_)\n",
    "print (\"intercept: \", reg.intercept_)\n",
    "\n",
    "aH, scale, A, B = 0.0381134613, 0.994778557, 0.153737587, 0.170327657\n",
    "X0 = np.array([[aH, scale, A, B]])\n",
    "print(reg.predict(X0))\n",
    "\n",
    "\n",
    "predicted=0\n",
    "for i,coef in enumerate(reg.coef_):\n",
    "    predicted+=coef*X0[0,i]\n",
    "    \n",
    "predicted+=reg.intercept_\n",
    "print(predicted)"
   ]
  },
  {
   "cell_type": "code",
   "execution_count": 6,
   "metadata": {},
   "outputs": [
    {
     "name": "stdout",
     "output_type": "stream",
     "text": [
      "0.9870510077511788\n",
      "coefficents:  [0.01268575 0.00128421 0.01304974 0.01676499]\n",
      "intercept:  -0.006621463867453043\n",
      "[1.31282427e-06]\n",
      "1.312824273716831e-06\n"
     ]
    }
   ],
   "source": [
    "mask = df_44keV['true_yield_sig'].notnull()\n",
    "y = df_44keV[mask]['true_yield_sig'] - df_44keV[mask]['cor1_yield_sig']\n",
    "X = df_44keV[mask][['aH', 'scale', 'A', 'B']]\n",
    "\n",
    "reg = LinearRegression().fit(X, y)\n",
    "\n",
    "print(reg.score(X, y))\n",
    "\n",
    "print (\"coefficents: \", reg.coef_)\n",
    "print (\"intercept: \", reg.intercept_)\n",
    "\n",
    "aH, scale, A, B = 0.0381134613, 0.994778557, 0.153737587, 0.170327657\n",
    "X0 = np.array([[aH, scale, A, B]])\n",
    "print(reg.predict(X0))\n",
    "\n",
    "\n",
    "predicted=0\n",
    "for i,coef in enumerate(reg.coef_):\n",
    "    predicted+=coef*X0[0,i]\n",
    "    \n",
    "predicted+=reg.intercept_\n",
    "print(predicted)"
   ]
  },
  {
   "cell_type": "code",
   "execution_count": 7,
   "metadata": {},
   "outputs": [
    {
     "name": "stdout",
     "output_type": "stream",
     "text": [
      "0.9848943746599956\n",
      "coefficents:  [0.0195214  0.00114802 0.01256059 0.01603726]\n",
      "intercept:  -0.00654459822082259\n",
      "[4.08033284e-06]\n",
      "4.080332840841749e-06\n"
     ]
    }
   ],
   "source": [
    "mask = df_58keV['true_yield_sig'].notnull()\n",
    "y = df_58keV[mask]['true_yield_sig'] - df_58keV[mask]['cor1_yield_sig']\n",
    "X = df_58keV[mask][['aH', 'scale', 'A', 'B']]\n",
    "\n",
    "reg = LinearRegression().fit(X, y)\n",
    "\n",
    "print(reg.score(X, y))\n",
    "\n",
    "print (\"coefficents: \", reg.coef_)\n",
    "print (\"intercept: \", reg.intercept_)\n",
    "\n",
    "aH, scale, A, B = 0.0381134613, 0.994778557, 0.153737587, 0.170327657\n",
    "X0 = np.array([[aH, scale, A, B]])\n",
    "print(reg.predict(X0))\n",
    "\n",
    "\n",
    "predicted=0\n",
    "for i,coef in enumerate(reg.coef_):\n",
    "    predicted+=coef*X0[0,i]\n",
    "    \n",
    "predicted+=reg.intercept_\n",
    "print(predicted)"
   ]
  },
  {
   "cell_type": "code",
   "execution_count": 8,
   "metadata": {},
   "outputs": [
    {
     "name": "stdout",
     "output_type": "stream",
     "text": [
      "0.9820387798382159\n",
      "coefficents:  [0.02973745 0.00088643 0.01310807 0.01668303]\n",
      "intercept:  -0.006859726936860776\n",
      "[1.22579782e-05]\n",
      "1.2257978188948138e-05\n"
     ]
    }
   ],
   "source": [
    "mask = df_97keV['true_yield_sig'].notnull()\n",
    "y = df_97keV[mask]['true_yield_sig'] - df_97keV[mask]['cor1_yield_sig']\n",
    "X = df_97keV[mask][['aH', 'scale', 'A', 'B']]\n",
    "\n",
    "reg = LinearRegression().fit(X, y)\n",
    "\n",
    "print(reg.score(X, y))\n",
    "\n",
    "print (\"coefficents: \", reg.coef_)\n",
    "print (\"intercept: \", reg.intercept_)\n",
    "\n",
    "aH, scale, A, B = 0.0381134613, 0.994778557, 0.153737587, 0.170327657\n",
    "X0 = np.array([[aH, scale, A, B]])\n",
    "print(reg.predict(X0))\n",
    "\n",
    "\n",
    "predicted=0\n",
    "for i,coef in enumerate(reg.coef_):\n",
    "    predicted+=coef*X0[0,i]\n",
    "    \n",
    "predicted+=reg.intercept_\n",
    "print(predicted)"
   ]
  },
  {
   "cell_type": "code",
   "execution_count": 9,
   "metadata": {},
   "outputs": [],
   "source": [
    "from edw_data_util import *\n",
    "ER_data, NR_data = getERNR()"
   ]
  },
  {
   "cell_type": "code",
   "execution_count": 10,
   "metadata": {},
   "outputs": [
    {
     "name": "stdout",
     "output_type": "stream",
     "text": [
      "3    24.5012\n",
      "6    34.2156\n",
      "2    44.2627\n",
      "5    58.4014\n",
      "4    97.7172\n",
      "Name: E_recoil, dtype: float64\n"
     ]
    }
   ],
   "source": [
    "print(NR_data['Erecoil'])"
   ]
  },
  {
   "cell_type": "code",
   "execution_count": 11,
   "metadata": {},
   "outputs": [
    {
     "name": "stdout",
     "output_type": "stream",
     "text": [
      "[0.00552431 0.00133703 0.01633244 0.02117115]\n",
      "-0.007662520580006483\n",
      "intercept: -0.007662520580006483\n",
      "coef X X0 = 0.0055243 X 0.0381135 = 0.0002106\n",
      "coef X X0 = 0.0013370 X 0.9947786 = 0.0013300\n",
      "coef X X0 = 0.0163324 X 0.1537376 = 0.0025109\n",
      "coef X X0 = 0.0211711 X 0.1703277 = 0.0036060\n",
      "-4.978939628740367e-06\n"
     ]
    }
   ],
   "source": [
    "import prob_dist as pd\n",
    "import imp\n",
    "imp.reload(pd)\n",
    "\n",
    "En = 24.5\n",
    "\n",
    "aH, scale, A, B = 0.0381134613, 0.994778557, 0.153737587, 0.170327657\n",
    "Vmod = 4.0*scale\n",
    "corr2 = pd.series_NRQ_sig_c2(Er=En,F=0.0,V=Vmod,aH=aH,alpha=(1/18.0),A=A,B=B,label='GGA3',verbose=True)\n",
    "\n",
    "print(corr2)"
   ]
  },
  {
   "cell_type": "code",
   "execution_count": 12,
   "metadata": {},
   "outputs": [
    {
     "name": "stdout",
     "output_type": "stream",
     "text": [
      "[0.00552431 0.00133703 0.01633244 0.02117115]\n",
      "-0.007662520580006483\n",
      "intercept: -0.007662520580006483\n",
      "coef X X0 = 0.0055243 X 0.0381135 = 0.0002106\n",
      "coef X X0 = 0.0013370 X 0.9947786 = 0.0013300\n",
      "coef X X0 = 0.0163324 X 0.1537376 = 0.0025109\n",
      "coef X X0 = 0.0211711 X 0.1703277 = 0.0036060\n",
      "0.002268664529354329\n",
      "0.0024378325770850356\n",
      "0.0024373409374400827\n",
      "4.978939628738632e-06\n"
     ]
    }
   ],
   "source": [
    "var0 = pd.series_NRQ_var(Er=En,F=0.0,V=Vmod,aH=aH,alpha=(1/18.0),A=A,B=B,label='GGA3')\n",
    "var1 = pd.series_NRQ_var_corr1(Er=En,F=0.0,V=Vmod,aH=aH,alpha=(1/18.0),A=A,B=B,label='GGA3')\n",
    "var2 = pd.series_NRQ_var_corr2(Er=En,F=0.0,V=Vmod,aH=aH,alpha=(1/18.0),A=A,B=B,label='GGA3',verbose=True)\n",
    "\n",
    "print(var0)\n",
    "print(var1)\n",
    "print(var2)\n",
    "print(np.sqrt(var1)-np.sqrt(var2))"
   ]
  },
  {
   "cell_type": "code",
   "execution_count": null,
   "metadata": {},
   "outputs": [],
   "source": []
  }
 ],
 "metadata": {
  "kernelspec": {
   "display_name": "Python 3",
   "language": "python",
   "name": "python3"
  },
  "language_info": {
   "codemirror_mode": {
    "name": "ipython",
    "version": 3
   },
   "file_extension": ".py",
   "mimetype": "text/x-python",
   "name": "python",
   "nbconvert_exporter": "python",
   "pygments_lexer": "ipython3",
   "version": "3.7.1"
  }
 },
 "nbformat": 4,
 "nbformat_minor": 2
}
