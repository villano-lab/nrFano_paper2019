{
 "cells": [
  {
   "cell_type": "code",
   "execution_count": 1,
   "metadata": {},
   "outputs": [
    {
     "name": "stdout",
     "output_type": "stream",
     "text": [
      "../mplstyles\n",
      "3.0.3\n",
      "/home/phys/villaa/analysis/misc/nrFano_paper2019/mplstyles\n"
     ]
    }
   ],
   "source": [
    "#we may need some code in the ../python directory and/or matplotlib styles\n",
    "import sys\n",
    "import os\n",
    "sys.path.append('../python/')\n",
    "\n",
    "#set up matplotlib\n",
    "os.environ['MPLCONFIGDIR'] = '../mplstyles'\n",
    "print(os.environ['MPLCONFIGDIR'])\n",
    "import matplotlib as mpl\n",
    "from matplotlib import pyplot as plt\n",
    "#got smarter about the mpl config: see mplstyles/ directory\n",
    "plt.style.use('standard')\n",
    "print(mpl.__version__) \n",
    "print(mpl.get_configdir())\n",
    "\n",
    "\n",
    "#fonts\n",
    "# Set the font dictionaries (for plot title and axis titles)\n",
    "title_font = {'fontname':'Arial', 'size':'16', 'color':'black', 'weight':'normal',\n",
    "              'verticalalignment':'bottom'} # Bottom vertical alignment for more space\n",
    "axis_font = {'fontname':'Arial', 'size':'32'}\n",
    "legend_font = {'fontname':'Arial', 'size':'22'}\n",
    "\n",
    "#fonts global settings\n",
    "mpl.rc('font',family=legend_font['fontname'])\n",
    "\n",
    "\n",
    "#set up numpy\n",
    "import numpy as np"
   ]
  },
  {
   "cell_type": "code",
   "execution_count": 33,
   "metadata": {},
   "outputs": [
    {
     "name": "stdout",
     "output_type": "stream",
     "text": [
      "Analytic Expression: 0.00104 sec.\n",
      "Numerical Integration: 0.18725 sec.\n",
      "Normalization and Integration: 20.42548 sec.\n",
      "sin function: 0.00009 sec.\n"
     ]
    }
   ],
   "source": [
    "import prob_dist as pd\n",
    "import EdwRes as er\n",
    "import time\n",
    "import imp\n",
    "imp.reload(pd)\n",
    "\n",
    "#get the resolutions                                                                              \n",
    "sigHv,sigIv,sigQerv,sigH_NRv,sigI_NRv,sigQnrv = \\\n",
    " er.getEdw_det_res('GGA3',4.0,'data/edw_res_data.txt',aH=0.0381,C=None) \n",
    "\n",
    "fF = pd.QEr_v2_2D_fast(sigHv,sigIv,4.0,3.0,0.00000001,Qbar=lambda x: 0.16*x**0.18)                            \n",
    "gF = pd.expband_2D(fF,(1/18.0),1.5)\n",
    "\n",
    "\n",
    "start = time.time()\n",
    "fF(0.1,10.0,10.0)\n",
    "end = time.time()\n",
    "print('Analytic Expression: {:1.5f} sec.'.format(end-start))\n",
    "\n",
    "start = time.time()\n",
    "gF(0.1,10.0)\n",
    "end = time.time()\n",
    "print('Numerical Integration: {:1.5f} sec.'.format(end-start))\n",
    "\n",
    "start = time.time()\n",
    "pd.sigmomEdw(10,band='NR',label='GGA3',F=0.000001,V=4.0,aH=0.0381,alpha=(1/18.0))\n",
    "end = time.time()\n",
    "print('Normalization and Integration: {:1.5f} sec.'.format(end-start))\n",
    "\n",
    "start = time.time()\n",
    "np.sin(np.pi)\n",
    "end = time.time()\n",
    "print('sin function: {:1.5f} sec.'.format(end-start))"
   ]
  },
  {
   "cell_type": "code",
   "execution_count": 30,
   "metadata": {},
   "outputs": [
    {
     "name": "stdout",
     "output_type": "stream",
     "text": [
      "energy: 10.000000\n",
      "calc mean: 0.242241; Qmean: 0.242170\n",
      "calc norm: 10.32813952;\n",
      "energy: 60.000000\n",
      "calc mean: 0.334199; Qmean: 0.334339\n",
      "calc norm: 0.64214199;\n",
      "energy: 110.000000\n",
      "calc mean: 0.372412; Qmean: 0.372881\n",
      "calc norm: 0.04000521;\n",
      "energy: 160.000000\n",
      "calc mean: 0.398058; Qmean: 0.398898\n",
      "calc norm: 0.00249732;\n"
     ]
    }
   ],
   "source": [
    "#check how the means and norms change\n",
    "from scipy.integrate import quad\n",
    "\n",
    "for Er in np.arange(10,200,50):\n",
    "  norm = quad(gF,-1,4,args=(Er,),epsabs=1e-10)[0]\n",
    "  Qdist = lambda Q: (1/norm)*gF(Q,Er)\n",
    "  meanfun = lambda Q: Q*Qdist(Q)\n",
    "  mean = quad(meanfun,-1,4,epsabs=1e-10)[0]\n",
    "  print('energy: {:2.6f}'.format(Er))\n",
    "  print('calc mean: {:2.6f}; Qmean: {:2.6f}'.format(mean,0.16*Er**0.18))\n",
    "  print('calc norm: {:2.8f};'.format(norm))\n",
    "  #sigfun = lambda Q: Q**2*Qdist(Q)\n",
    "  #q2 = quad(sigfun,-1,4)[0]"
   ]
  },
  {
   "cell_type": "code",
   "execution_count": 32,
   "metadata": {},
   "outputs": [
    {
     "name": "stdout",
     "output_type": "stream",
     "text": [
      "norm ratio: 0.062; expected ratio: 0.062\n",
      "norm ratio: 0.004; expected ratio: 0.004\n",
      "norm ratio: 0.00024180; expected ratio: 0.00024037\n"
     ]
    }
   ],
   "source": [
    "alpha = (1/18.0)\n",
    "print('norm ratio: {:2.3f}; expected ratio: {:2.3f}'.format(0.64214199/10.32813952,np.exp(-alpha*60)/np.exp(-alpha*10)))\n",
    "print('norm ratio: {:2.3f}; expected ratio: {:2.3f}'.format(0.04000521/10.32813952,np.exp(-alpha*110)/np.exp(-alpha*10)))\n",
    "print('norm ratio: {:2.8f}; expected ratio: {:2.8f}'.format(0.00249732/10.32813952,np.exp(-alpha*160)/np.exp(-alpha*10)))"
   ]
  },
  {
   "cell_type": "code",
   "execution_count": 71,
   "metadata": {},
   "outputs": [],
   "source": [
    "from scipy import stats\n",
    "Er = 10\n",
    "norm = quad(gF,-1,4,args=(Er,),epsabs=1e-10)[0]\n",
    "#norm = 10.32813952\n",
    "Qdist = lambda Q: (1/norm)*gF(Q,Er)"
   ]
  },
  {
   "cell_type": "code",
   "execution_count": 78,
   "metadata": {},
   "outputs": [
    {
     "name": "stdout",
     "output_type": "stream",
     "text": [
      "1.1477231018716023\n",
      "0.0862066851512281\n",
      "sample function: 5.80750 sec.\n",
      "0.10248555277106354\n"
     ]
    }
   ],
   "source": [
    "\n",
    "print(Qdist(0.1))\n",
    "Qdistv = np.vectorize(Qdist)\n",
    "def randdist(x, pdf, nvals):\n",
    "    \"\"\"Produce nvals random samples from pdf(x), assuming constant spacing in x.\"\"\"\n",
    "\n",
    "    # get cumulative distribution from 0 to 1\n",
    "    cumpdf = np.cumsum(pdf)\n",
    "    cumpdf *= 1/cumpdf[-1]\n",
    "\n",
    "    # input random values\n",
    "    randv = np.random.uniform(size=nvals)\n",
    "\n",
    "    # find where random values would go\n",
    "    idx1 = np.searchsorted(cumpdf, randv)\n",
    "    # get previous value, avoiding division by zero below\n",
    "    idx0 = np.where(idx1==0, 0, idx1-1)\n",
    "    idx1[idx0==0] = 1\n",
    "\n",
    "    # do linear interpolation in x\n",
    "    frac1 = (randv - cumpdf[idx0]) / (cumpdf[idx1] - cumpdf[idx0])\n",
    "    randdist = x[idx0]*(1-frac1) + x[idx1]*frac1\n",
    "\n",
    "    return randdist\n",
    "\n",
    "start = time.time()\n",
    "x = np.arange(-2,7,0.05)\n",
    "print(np.std(randdist(x,Qdistv(x),1000)))\n",
    "end = time.time()\n",
    "print('sample function: {:1.5f} sec.'.format(end-start))\n",
    "\n",
    "#get expected sig value\n",
    "val = pd.sigmomEdw(10,band='NR',label='GGA3',F=0.000001,V=4.0,aH=0.0381,alpha=(1/18.0))\n",
    "print(val)"
   ]
  },
  {
   "cell_type": "code",
   "execution_count": 91,
   "metadata": {},
   "outputs": [],
   "source": [
    "x = np.arange(-2,1,0.01)\n",
    "\n",
    "xmax = 1\n",
    "n,nx = np.histogram(randdist(x,Qdistv(x),1000),100,range=(0,xmax))\n",
    "\n",
    "\n",
    "\n",
    "xc = (nx[:-1] + nx[1:]) / 2"
   ]
  },
  {
   "cell_type": "code",
   "execution_count": 92,
   "metadata": {},
   "outputs": [
    {
     "data": {
      "image/png": "[encoded data removed]",
      "text/plain": [
       "<Figure size 648x576 with 1 Axes>"
      ]
     },
     "metadata": {
      "needs_background": "light"
     },
     "output_type": "display_data"
    }
   ],
   "source": [
    "#set up a 1d plot\n",
    "fig,axes = plt.subplots(1,1,figsize=(9.0,8.0),sharex=True)\n",
    "ax1 = axes\n",
    "\n",
    "ax1.step(xc,n/(np.sum(n)*(x[1]-x[0])), where='mid',color='r', linestyle='-', \\\n",
    "         label='samples', linewidth=2)\n",
    "\n",
    "ax1.plot(x,Qdistv(x),color='orange',linestyle='--',linewidth=3,label='distribution')\n",
    "\n",
    "ymin = 0\n",
    "ymax = 10\n",
    "\n",
    "\n",
    "\n",
    "ax1.set_yscale('linear')\n",
    "#ax1.set_yscale('log')\n",
    "ax1.set_xlim(0, 1) \n",
    "ax1.set_ylim(ymin,ymax)\n",
    "ax1.set_xlabel(r'ionization yield',**axis_font)\n",
    "ax1.set_ylabel('PDF',**axis_font)\n",
    "ax1.grid(True)\n",
    "ax1.yaxis.grid(True,which='minor',linestyle='--')\n",
    "ax1.legend(loc=1,prop={'size':22})\n",
    "#ax1.legend(bbox_to_anchor=(1.04,1),borderaxespad=0,prop={'size':22})\n",
    "\n",
    "for axis in ['top','bottom','left','right']:\n",
    "  ax1.spines[axis].set_linewidth(2)\n",
    "\n",
    "plt.tight_layout()\n",
    "#plt.savefig('figures/figure.png')\n",
    "plt.show()"
   ]
  },
  {
   "cell_type": "code",
   "execution_count": null,
   "metadata": {},
   "outputs": [],
   "source": []
  }
 ],
 "metadata": {
  "kernelspec": {
   "display_name": "Python [conda env:py373_gammapi] *",
   "language": "python",
   "name": "conda-env-py373_gammapi-py"
  },
  "language_info": {
   "codemirror_mode": {
    "name": "ipython",
    "version": 3
   },
   "file_extension": ".py",
   "mimetype": "text/x-python",
   "name": "python",
   "nbconvert_exporter": "python",
   "pygments_lexer": "ipython3",
   "version": "3.7.3"
  }
 },
 "nbformat": 4,
 "nbformat_minor": 2
}
