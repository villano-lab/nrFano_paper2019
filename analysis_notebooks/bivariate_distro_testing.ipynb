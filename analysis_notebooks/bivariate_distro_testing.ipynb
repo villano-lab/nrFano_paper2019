{
 "cells": [
  {
   "cell_type": "code",
   "execution_count": 4,
   "metadata": {},
   "outputs": [],
   "source": [
    "import matplotlib.pyplot as plt\n",
    "import numpy as np\n",
    "from scipy.stats import multivariate_normal"
   ]
  },
  {
   "cell_type": "code",
   "execution_count": 193,
   "metadata": {},
   "outputs": [
    {
     "name": "stdout",
     "output_type": "stream",
     "text": [
      "slope, angle (rad):  -1.3601386261594328 ,  -0.9368222514985171\n"
     ]
    }
   ],
   "source": [
    "Erecoil_keV = 99\n",
    "slope = -1/(0.16*np.log(Erecoil_keV)) #0.4\n",
    "angle_rad = np.arctan(slope)\n",
    "print (\"slope, angle (rad): \", slope, \", \", angle_rad)\n",
    "\n",
    "mu_x = 0.16\n",
    "mu_y = 0.18\n",
    "sig_x = 0.07 #0.2\n",
    "sig_y = 0.11 #slope*sig_x\n",
    "\n",
    "intercept = mu_y - slope*mu_x"
   ]
  },
  {
   "cell_type": "code",
   "execution_count": 204,
   "metadata": {},
   "outputs": [],
   "source": [
    "def getCov_fromCoeff(a, b, c):\n",
    "    Var_x = 4*np.pi/(np.sqrt(c)*np.power(4*a - b**2/c ,3/2))\n",
    "    Var_y = 4*np.pi*a/np.power(4*a*c - b**2 ,3/2)\n",
    "    Var_xy = 2*np.pi*b/np.power(4*a*c - b**2 ,3/2)\n",
    "    \n",
    "    return [[Var_x, Var_xy], [Var_xy, Var_y]]\n",
    "\n",
    "def getCoeff(sig_x, sig_y, theta):\n",
    "    a = np.power(np.cos(theta),2)/(2*sig_x*sig_x) + np.power(np.sin(theta),2)/(2*sig_y*sig_y)\n",
    "    b = 2*np.cos(theta)*np.sin(theta)/(2*sig_y*sig_y) - 2*np.cos(theta)*np.sin(theta)/(2*sig_x*sig_x)\n",
    "    c = np.power(np.cos(theta),2)/(2*sig_y*sig_y) + np.power(np.sin(theta),2)/(2*sig_x*sig_x)\n",
    "    \n",
    "    return a, b, c\n",
    "    \n",
    "def getCov(sig_x, sig_y, theta):\n",
    "    a, b, c = getCoeff(sig_x, sig_y, theta)\n",
    "    return getCov_fromCoeff(a, b, c)\n",
    "\n",
    "def evalBivariatePDF(energies_keV, mu_x, mu_y, sig_x, sig_y, A, B):\n",
    "    pdf_arr = []\n",
    "    \n",
    "    for Erecoil_keV in energies_keV:\n",
    "        slope = -1/(0.16*np.log(Erecoil_keV))\n",
    "        theta = np.arctan(slope) + np.pi/2\n",
    "        cov_matrix = getCov(sig_x, sig_y, theta)\n",
    "        rv = multivariate_normal([mu_x, mu_y], cov_matrix)\n",
    "        pdf_arr.append(rv.pdf([[A, B]]))\n",
    "        \n",
    "    return pdf_arr\n",
    "\n"
   ]
  },
  {
   "cell_type": "code",
   "execution_count": 205,
   "metadata": {},
   "outputs": [],
   "source": [
    "x_dat = np.linspace(-3, 3, 10, endpoint=False)\n",
    "y_dat = intercept + x_dat * slope\n",
    "#print (x_dat, y_dat)"
   ]
  },
  {
   "cell_type": "code",
   "execution_count": 206,
   "metadata": {},
   "outputs": [
    {
     "name": "stdout",
     "output_type": "stream",
     "text": [
      "-0.006664679268181222\n",
      "[[0.0003592900534111379, -0.00016624358525663943], [-0.00016624358525663943, 0.00046317890329866993]]\n",
      "maximum value:  427.2271194229121\n"
     ]
    },
    {
     "data": {
      "text/plain": [
       "[<matplotlib.lines.Line2D at 0x1ea22254b00>]"
      ]
     },
     "execution_count": 206,
     "metadata": {},
     "output_type": "execute_result"
    },
    {
     "data": {
      "image/png": "[encoded data removed]",
      "text/plain": [
       "<Figure size 432x288 with 1 Axes>"
      ]
     },
     "metadata": {
      "needs_background": "light"
     },
     "output_type": "display_data"
    }
   ],
   "source": [
    "print(slope*sig_x**2)\n",
    "a = slope*sig_x**2#0.11\n",
    "angle = angle_rad + np.pi/2\n",
    "x, y = np.mgrid[-3:3:.01, -3:3:.01]\n",
    "pos = np.dstack((x, y))\n",
    "cmatrix = getCov(sig_x,sig_y,angle)\n",
    "print(cmatrix)\n",
    "#rv = multivariate_normal([mu_x, mu_y], [[sig_x**2, a], [a, sig_y**2]])\n",
    "rv = multivariate_normal([mu_x, mu_y], cmatrix)\n",
    "fig2 = plt.figure()\n",
    "ax2 = fig2.add_subplot(111)\n",
    "ax2.contourf(x, y, rv.pdf(pos),[0.1*np.max(rv.pdf(pos)), 0.3*np.max(rv.pdf(pos)), 0.9*np.max(rv.pdf(pos))])\n",
    "ax2.axis('equal')\n",
    "print ('maximum value: ', np.max(rv.pdf(pos)))\n",
    "evalBivariatePDF([22, 99], mu_x, mu_y, sig_x, sig_y, mu_x, mu_y)\n",
    "plt.plot(x_dat, y_dat)\n",
    "plt.ylim(-0.4, 0.4)\n",
    "plt.xlim(-0.4, 0.4)\n",
    "\n",
    "plt.fill([-0.6,0.6,0.6,-0.6], [-0.4,-0.4,0,0], 'b', alpha=0.2, edgecolor='r')\n",
    "plt.fill([-0.6,0,0,-0.6], [-0.4,-0.4,0.4,0.4], 'b', alpha=0.2, edgecolor='r')\n",
    "\n",
    "plt.plot(0.066, 0.1599, 'o')"
   ]
  },
  {
   "cell_type": "code",
   "execution_count": null,
   "metadata": {},
   "outputs": [],
   "source": []
  }
 ],
 "metadata": {
  "kernelspec": {
   "display_name": "Python [conda env:nr_fano] *",
   "language": "python",
   "name": "conda-env-nr_fano-py"
  },
  "language_info": {
   "codemirror_mode": {
    "name": "ipython",
    "version": 3
   },
   "file_extension": ".py",
   "mimetype": "text/x-python",
   "name": "python",
   "nbconvert_exporter": "python",
   "pygments_lexer": "ipython3",
   "version": "3.6.8"
  }
 },
 "nbformat": 4,
 "nbformat_minor": 4
}
