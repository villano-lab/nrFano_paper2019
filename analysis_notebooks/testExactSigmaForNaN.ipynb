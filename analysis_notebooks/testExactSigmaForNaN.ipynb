{
 "cells": [
  {
   "cell_type": "code",
   "execution_count": 1,
   "metadata": {},
   "outputs": [
    {
     "name": "stdout",
     "output_type": "stream",
     "text": [
      "../mplstyles\n",
      "3.0.2\n",
      "/Users/villaa/nrFano_paper2019/mplstyles\n"
     ]
    }
   ],
   "source": [
    "#we may need some code in the ../python directory and/or matplotlib styles\n",
    "import sys\n",
    "import os\n",
    "sys.path.append('../python/')\n",
    "\n",
    "#set up matplotlib\n",
    "os.environ['MPLCONFIGDIR'] = '../mplstyles'\n",
    "print(os.environ['MPLCONFIGDIR'])\n",
    "import matplotlib as mpl\n",
    "from matplotlib import pyplot as plt\n",
    "#got smarter about the mpl config: see mplstyles/ directory\n",
    "plt.style.use('standard')\n",
    "print(mpl.__version__) \n",
    "print(mpl.get_configdir())\n",
    "\n",
    "\n",
    "#fonts\n",
    "# Set the font dictionaries (for plot title and axis titles)\n",
    "title_font = {'fontname':'Arial', 'size':'16', 'color':'black', 'weight':'normal',\n",
    "              'verticalalignment':'bottom'} # Bottom vertical alignment for more space\n",
    "axis_font = {'fontname':'Arial', 'size':'32'}\n",
    "legend_font = {'fontname':'Arial', 'size':'22'}\n",
    "\n",
    "#fonts global settings\n",
    "mpl.rc('font',family=legend_font['fontname'])\n",
    "\n",
    "\n",
    "#set up numpy\n",
    "import numpy as np"
   ]
  },
  {
   "cell_type": "code",
   "execution_count": 2,
   "metadata": {},
   "outputs": [],
   "source": [
    "import prob_dist as pd\n",
    "import EdwRes as er\n",
    "import time\n",
    "import imp"
   ]
  },
  {
   "cell_type": "code",
   "execution_count": 3,
   "metadata": {},
   "outputs": [
    {
     "name": "stdout",
     "output_type": "stream",
     "text": [
      "5.936855189690593\n",
      "4.8231744967112136e-68\n",
      "0.2707255967255099\n",
      "0.07703425714084622\n",
      "0.061171140405119215\n",
      "Normalization and Integration: 21.66012 sec.\n"
     ]
    }
   ],
   "source": [
    "start = time.time()\n",
    "a=pd.sigmomEdw(20,band='NR',label='GGA3',F=0.000001,V=4.0,aH=0.0381,alpha=(1/18.0))\n",
    "print(a)\n",
    "end = time.time()\n",
    "print('Normalization and Integration: {:1.5f} sec.'.format(end-start))"
   ]
  },
  {
   "cell_type": "code",
   "execution_count": 4,
   "metadata": {},
   "outputs": [
    {
     "name": "stdout",
     "output_type": "stream",
     "text": [
      "0.1606147525507463\n",
      "0.0\n",
      "0.13275485850730528\n",
      "0.01777762086502544\n",
      "0.01240033901676868\n",
      "Normalization and Integration: 29.75935 sec.\n"
     ]
    }
   ],
   "source": [
    "start = time.time()\n",
    "a=pd.sigmomEdw(85,band='NR',label='GGA3',F=0.000001,V=4.0*0.991580,aH=0.038536,alpha=(1/18.0),A=0.065696,B=0.159874)\n",
    "print(a)\n",
    "end = time.time()\n",
    "print('Normalization and Integration: {:1.5f} sec.'.format(end-start))"
   ]
  },
  {
   "cell_type": "code",
   "execution_count": null,
   "metadata": {},
   "outputs": [],
   "source": []
  }
 ],
 "metadata": {
  "kernelspec": {
   "display_name": "Python 3",
   "language": "python",
   "name": "python3"
  },
  "language_info": {
   "codemirror_mode": {
    "name": "ipython",
    "version": 3
   },
   "file_extension": ".py",
   "mimetype": "text/x-python",
   "name": "python",
   "nbconvert_exporter": "python",
   "pygments_lexer": "ipython3",
   "version": "3.7.1"
  }
 },
 "nbformat": 4,
 "nbformat_minor": 2
}
