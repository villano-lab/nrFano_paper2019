{
 "cells": [
  {
   "cell_type": "markdown",
   "metadata": {},
   "source": [
    "# The difference between the Edelweiss resolution function and the true Yield variance\n",
    "\n",
    "## The problem\n",
    "We perform the fit to the data using an approximation to the yield variance, not the true yield variance.  This begs the question, \"does this impact our answer significantly?\"\n",
    "\n",
    "## What this notebook investigates\n",
    "This notebook samples the posterior distribution and, for each parameter set sampled, stores the difference between the true yield and the estimate used by the fit.\n",
    "\n",
    "This notebook focuses on a single energy."
   ]
  },
  {
   "cell_type": "code",
   "execution_count": 1,
   "metadata": {},
   "outputs": [],
   "source": [
    "import matplotlib.pyplot as plt\n",
    "%matplotlib inline \n",
    "import h5py\n",
    "import numpy as np\n",
    "import pandas as pd\n",
    "from astropy.table import Table, Column, vstack\n",
    "from astropy.io.misc.hdf5 import read_table_hdf5, write_table_hdf5\n",
    "\n",
    "import sys\n",
    "sys.path.append('../python/')\n",
    "from EdwRes import *\n",
    "from prob_dist import *\n",
    "from checkDifference_yieldVariance import *"
   ]
  },
  {
   "cell_type": "code",
   "execution_count": 2,
   "metadata": {},
   "outputs": [],
   "source": [
    "# get the data\n",
    "# the posterior distribution is in samples\n",
    "#filename = 'data/edelweiss_corr_C_systematicErrors_sampler_nll_allpars_gausPrior.h5'\n",
    "#ndim, nwalkers, nsteps, samples = getPosteriorSamples(filename)"
   ]
  },
  {
   "cell_type": "code",
   "execution_count": 14,
   "metadata": {},
   "outputs": [
    {
     "name": "stdout",
     "output_type": "stream",
     "text": [
      "3    24.5012\n",
      "6    34.2156\n",
      "2    44.2627\n",
      "5    58.4014\n",
      "4    97.7172\n",
      "Name: E_recoil, dtype: float64\n",
      "3    0.059397\n",
      "6    0.053417\n",
      "2    0.046528\n",
      "5    0.050082\n",
      "4    0.044847\n",
      "Name: sig_NR, dtype: float64\n",
      "3    0.001185\n",
      "6    0.001102\n",
      "2    0.001543\n",
      "5    0.002288\n",
      "4    0.002783\n",
      "Name: sig_NR_err, dtype: float64\n"
     ]
    }
   ],
   "source": [
    "# We'll look at the Er values of the data points\n",
    "# import data from Edelweiss\n",
    "resNR_data = pd.read_csv(\"data/edelweiss_NRwidth_GGA3_data.txt\", skiprows=1, \\\n",
    "                       names=['E_recoil', 'sig_NR', 'E_recoil_err', 'sig_NR_err'], \\\n",
    "                       delim_whitespace=True)\n",
    "\n",
    "# the sorting is necessary!\n",
    "# otherwise the mask defined below will select the wrong data\n",
    "resNR_data = resNR_data.sort_values(by='E_recoil')\n",
    "NR_data = {'Erecoil': resNR_data[\"E_recoil\"][2::], 'sigma': resNR_data[\"sig_NR\"][2::], 'sigma_err': resNR_data[\"sig_NR_err\"][2::]}\n",
    "Er = np.sort(NR_data['Erecoil'])\n",
    "Erecoil = Er[0]\n",
    "print (NR_data['Erecoil'])\n",
    "print (NR_data['sigma'])\n",
    "print (NR_data['sigma_err'])\n",
    "#print (len(samples))\n",
    "#print(np.random.randint(len(samples), size=10))\n",
    "\n",
    "filename = 'data/yield_accuracy_Erecoil_24.50_keV_all.h5'"
   ]
  },
  {
   "cell_type": "code",
   "execution_count": 4,
   "metadata": {},
   "outputs": [],
   "source": [
    "# read the data into a pandas dataframe\n",
    "df = pd.read_hdf(filename, key='table')"
   ]
  },
  {
   "cell_type": "code",
   "execution_count": 5,
   "metadata": {},
   "outputs": [
    {
     "data": {
      "text/html": [
       "<div>\n",
       "<style scoped>\n",
       "    .dataframe tbody tr th:only-of-type {\n",
       "        vertical-align: middle;\n",
       "    }\n",
       "\n",
       "    .dataframe tbody tr th {\n",
       "        vertical-align: top;\n",
       "    }\n",
       "\n",
       "    .dataframe thead th {\n",
       "        text-align: right;\n",
       "    }\n",
       "</style>\n",
       "<table border=\"1\" class=\"dataframe\">\n",
       "  <thead>\n",
       "    <tr style=\"text-align: right;\">\n",
       "      <th></th>\n",
       "      <th>energy_recoil_keV</th>\n",
       "      <th>aH</th>\n",
       "      <th>C</th>\n",
       "      <th>m</th>\n",
       "      <th>scale</th>\n",
       "      <th>A</th>\n",
       "      <th>B</th>\n",
       "      <th>true_yield_sig</th>\n",
       "      <th>cor1_yield_sig</th>\n",
       "    </tr>\n",
       "  </thead>\n",
       "  <tbody>\n",
       "    <tr>\n",
       "      <th>0</th>\n",
       "      <td>24.5012</td>\n",
       "      <td>0.037605</td>\n",
       "      <td>0.034165</td>\n",
       "      <td>0.000120</td>\n",
       "      <td>1.031042</td>\n",
       "      <td>0.161733</td>\n",
       "      <td>0.099583</td>\n",
       "      <td>0.046483</td>\n",
       "      <td>0.048405</td>\n",
       "    </tr>\n",
       "    <tr>\n",
       "      <th>1</th>\n",
       "      <td>24.5012</td>\n",
       "      <td>0.039069</td>\n",
       "      <td>0.037799</td>\n",
       "      <td>0.000109</td>\n",
       "      <td>0.961409</td>\n",
       "      <td>0.119655</td>\n",
       "      <td>0.020568</td>\n",
       "      <td>0.040304</td>\n",
       "      <td>0.043098</td>\n",
       "    </tr>\n",
       "    <tr>\n",
       "      <th>2</th>\n",
       "      <td>24.5012</td>\n",
       "      <td>0.038268</td>\n",
       "      <td>0.036342</td>\n",
       "      <td>0.000100</td>\n",
       "      <td>0.953623</td>\n",
       "      <td>0.089267</td>\n",
       "      <td>0.281265</td>\n",
       "      <td>0.047329</td>\n",
       "      <td>0.047397</td>\n",
       "    </tr>\n",
       "  </tbody>\n",
       "</table>\n",
       "</div>"
      ],
      "text/plain": [
       "   energy_recoil_keV        aH         C         m     scale         A  \\\n",
       "0            24.5012  0.037605  0.034165  0.000120  1.031042  0.161733   \n",
       "1            24.5012  0.039069  0.037799  0.000109  0.961409  0.119655   \n",
       "2            24.5012  0.038268  0.036342  0.000100  0.953623  0.089267   \n",
       "\n",
       "          B  true_yield_sig  cor1_yield_sig  \n",
       "0  0.099583        0.046483        0.048405  \n",
       "1  0.020568        0.040304        0.043098  \n",
       "2  0.281265        0.047329        0.047397  "
      ]
     },
     "execution_count": 5,
     "metadata": {},
     "output_type": "execute_result"
    }
   ],
   "source": [
    "df.head(3)"
   ]
  },
  {
   "cell_type": "code",
   "execution_count": 7,
   "metadata": {},
   "outputs": [
    {
     "name": "stdout",
     "output_type": "stream",
     "text": [
      "   energy_recoil_keV        aH         C         m     scale         A  \\\n",
      "0            24.5012  0.038193  0.040862  0.000033  0.956210  0.118450   \n",
      "1            24.5012  0.038193  0.040862  0.000033  0.956210  0.118450   \n",
      "2            24.5012  0.038193  0.040862  0.000033  0.956210  0.118450   \n",
      "3            24.5012  0.038193  0.040862  0.000033  0.956210  0.118450   \n",
      "4            24.5012  0.038732  0.040075  0.000045  0.904522  0.161309   \n",
      "\n",
      "          B  true_yield_sig  cor1_yield_sig  \n",
      "0  0.030634        0.040463        0.043192  \n",
      "1  0.030634        0.040463        0.043192  \n",
      "2  0.030634        0.040463        0.043192  \n",
      "3  0.030634        0.040463        0.043192  \n",
      "4 -0.043082        0.040142        0.043284  \n"
     ]
    }
   ],
   "source": [
    "print(df)"
   ]
  },
  {
   "cell_type": "code",
   "execution_count": 8,
   "metadata": {},
   "outputs": [],
   "source": [
    "#hist, bin_edges = np.histogram(df['true_yield_sig'] - df['cor1_yield_sig'], bins='auto')"
   ]
  },
  {
   "cell_type": "code",
   "execution_count": 9,
   "metadata": {},
   "outputs": [
    {
     "data": {
      "image/png": "[encoded data removed]",
      "text/plain": [
       "<Figure size 432x288 with 1 Axes>"
      ]
     },
     "metadata": {
      "needs_background": "light"
     },
     "output_type": "display_data"
    }
   ],
   "source": [
    "fig1 = plt.hist(100*(df['true_yield_sig'] - df['cor1_yield_sig'])/df['true_yield_sig'], bins='auto')"
   ]
  },
  {
   "cell_type": "code",
   "execution_count": 10,
   "metadata": {},
   "outputs": [
    {
     "data": {
      "image/png": "[encoded data removed]",
      "text/plain": [
       "<Figure size 432x288 with 1 Axes>"
      ]
     },
     "metadata": {
      "needs_background": "light"
     },
     "output_type": "display_data"
    }
   ],
   "source": [
    "fig2 = plt.hist((df['true_yield_sig'] - df['cor1_yield_sig']), bins='auto')"
   ]
  },
  {
   "cell_type": "code",
   "execution_count": 10,
   "metadata": {},
   "outputs": [
    {
     "data": {
      "text/plain": [
       "0.04833218389437829"
      ]
     },
     "execution_count": 10,
     "metadata": {},
     "output_type": "execute_result"
    }
   ],
   "source": [
    "np.sqrt(0.002336)"
   ]
  }
 ],
 "metadata": {
  "kernelspec": {
   "display_name": "Python [conda env:nr_fano] *",
   "language": "python",
   "name": "conda-env-nr_fano-py"
  },
  "language_info": {
   "codemirror_mode": {
    "name": "ipython",
    "version": 3
   },
   "file_extension": ".py",
   "mimetype": "text/x-python",
   "name": "python",
   "nbconvert_exporter": "python",
   "pygments_lexer": "ipython3",
   "version": "3.6.8"
  }
 },
 "nbformat": 4,
 "nbformat_minor": 4
}
