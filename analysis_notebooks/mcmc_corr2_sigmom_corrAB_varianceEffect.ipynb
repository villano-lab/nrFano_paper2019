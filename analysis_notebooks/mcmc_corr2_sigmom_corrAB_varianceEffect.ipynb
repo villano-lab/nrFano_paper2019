{
 "cells": [
  {
   "cell_type": "code",
   "execution_count": 2,
   "metadata": {},
   "outputs": [],
   "source": [
    "import numpy as np\n",
    "import pandas as pd\n",
    "import matplotlib.pyplot as plt\n",
    "%matplotlib inline \n",
    "import h5py"
   ]
  },
  {
   "cell_type": "code",
   "execution_count": 1,
   "metadata": {},
   "outputs": [],
   "source": [
    "filename = 'data/edelweiss_corr1_systematicErrors_sampler_nll_allpars_corrAB_gausPrior_2844a28.h5'"
   ]
  },
  {
   "cell_type": "code",
   "execution_count": 3,
   "metadata": {},
   "outputs": [],
   "source": [
    "f = h5py.File(filename,'r')\n",
    "\n",
    "# need to store data in an array:\n",
    "# The sampler will now have a chains attribute \n",
    "# which is an array with shape (Nwalker,N,Ndim) \n",
    "# where N is the number of interations (500 in our inital run)\n",
    "# and Ndim is the number of fit parameters\n",
    "path='{}/{}/'.format('mcmc','sampler')\n",
    "\n",
    "aH = np.asarray(f[path+'aH'])\n",
    "C = np.asarray(f[path+'C'])\n",
    "m = np.asarray(f[path+'m'])\n",
    "scale = np.asarray(f[path+'scale'])\n",
    "A = np.asarray(f[path+'A'])\n",
    "B = np.asarray(f[path+'B'])\n",
    "samples = np.asarray(f[path+'samples'])\n",
    "\n",
    "f.close()"
   ]
  },
  {
   "cell_type": "code",
   "execution_count": null,
   "metadata": {},
   "outputs": [],
   "source": [
    "sampsize=10000\n",
    "Erecoil_keV = np.linspace(10, 200, 50)\n",
    "evec = np.zeros((np.size(Erecoil_keV),sampsize))\n",
    "\n",
    "for i, (aH, C, m, scale, A, B) in enumerate(samples_corner[np.random.randint(len(samples_corner), size=sampsize)]):\n",
    "    V = scale*4.0\n",
    "    model_NR_0 = [series_NRQ_var_corr1(x, 0, V, aH, 1/18.0, A, B, 'GGA3') for x in Erecoil_keV] \n",
    "    model_NR = np.sqrt(np.power(C + m*Erecoil, 2) + model_NR_0)\n",
    "\n",
    "    v = model_NR\n",
    "    #print(np.std(v))\n",
    "    #print(np.mean(v))\n",
    "    evec[:,i] = v\n",
    "\n",
    "# use the best-fit function instead of the mean\n",
    "# to calculate the up and down limits:\n",
    "# find the height at which 68% of the function is contained\n",
    "# the upper and lower are the values that cross that height\n",
    "upvec = []\n",
    "dnvec = []\n",
    "for sample in evec:\n",
    "    #print (np.size(sample))\n",
    "    #print(sample)\n",
    "    interval = hpd(sample, 0.6827)\n",
    "    #print (interval)\n",
    "    upvec.append(interval[0])\n",
    "    dnvec.append(interval[1])\n",
    "\n",
    "## calculate the best-fit values\n",
    "model_NR_0 = [series_NRQ_var_corr1(x, 0, V_fit, aH_fit, 1/18.0, A_fit, B_fit, 'GGA3') for x in Erecoil_keV] \n",
    "model_NR_fit = np.sqrt(np.power(C_fit + m_fit*Erecoil, 2) + model_NR_0)"
   ]
  }
 ],
 "metadata": {
  "kernelspec": {
   "display_name": "Python [conda env:fano_pub]",
   "language": "python",
   "name": "conda-env-fano_pub-py"
  },
  "language_info": {
   "codemirror_mode": {
    "name": "ipython",
    "version": 3
   },
   "file_extension": ".py",
   "mimetype": "text/x-python",
   "name": "python",
   "nbconvert_exporter": "python",
   "pygments_lexer": "ipython3",
   "version": "3.7.6"
  }
 },
 "nbformat": 4,
 "nbformat_minor": 4
}
