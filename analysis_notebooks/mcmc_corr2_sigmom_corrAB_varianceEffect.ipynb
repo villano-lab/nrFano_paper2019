{
 "cells": [
  {
   "cell_type": "code",
   "execution_count": 9,
   "metadata": {},
   "outputs": [
    {
     "name": "stdout",
     "output_type": "stream",
     "text": [
      "GGA3/NR/4.0/5.556E-02/0.0380/000/0.1493/0.1782/0.9975/\n",
      "GGA3/NR/4.0/5.556E-02/0.0381/000/0.1537/0.1703/0.9948/\n"
     ]
    }
   ],
   "source": [
    "import numpy as np\n",
    "import pandas as pd\n",
    "import matplotlib.pyplot as plt\n",
    "%matplotlib inline \n",
    "import h5py\n",
    "\n",
    "import sys\n",
    "sys.path.append('../python/')\n",
    "from edw_data_util import *"
   ]
  },
  {
   "cell_type": "code",
   "execution_count": 10,
   "metadata": {},
   "outputs": [],
   "source": [
    "filename = 'data/edelweiss_corr1_systematicErrors_sampler_nll_allpars_corrAB_gausPrior_2844a28.h5'"
   ]
  },
  {
   "cell_type": "code",
   "execution_count": 11,
   "metadata": {},
   "outputs": [],
   "source": [
    "f = h5py.File(filename,'r')\n",
    "\n",
    "# need to store data in an array:\n",
    "# The sampler will now have a chains attribute \n",
    "# which is an array with shape (Nwalker,N,Ndim) \n",
    "# where N is the number of interations (500 in our inital run)\n",
    "# and Ndim is the number of fit parameters\n",
    "path='{}/{}/'.format('mcmc','sampler')\n",
    "\n",
    "aH = np.asarray(f[path+'aH'])\n",
    "C = np.asarray(f[path+'C'])\n",
    "m = np.asarray(f[path+'m'])\n",
    "scale = np.asarray(f[path+'scale'])\n",
    "A = np.asarray(f[path+'A'])\n",
    "B = np.asarray(f[path+'B'])\n",
    "samples = np.asarray(f[path+'samples'])\n",
    "\n",
    "f.close()"
   ]
  },
  {
   "cell_type": "code",
   "execution_count": 26,
   "metadata": {},
   "outputs": [
    {
     "name": "stdout",
     "output_type": "stream",
     "text": [
      "(100, 5000, 6)\n",
      "[[0.03383839 0.03422393 0.03422393 ... 0.03305807 0.03305807 0.03305807]\n",
      " [0.03523041 0.03665635 0.03665635 ... 0.03565165 0.03394058 0.03491631]\n",
      " [0.03136095 0.0314244  0.0314244  ... 0.0363116  0.0363116  0.03627199]\n",
      " ...\n",
      " [0.03449717 0.03260372 0.03260372 ... 0.03084531 0.02891799 0.02989469]\n",
      " [0.03540461 0.03540461 0.03559485 ... 0.02874892 0.02874892 0.02783924]\n",
      " [0.02946945 0.02946945 0.02946945 ... 0.03005696 0.03008158 0.03008158]]\n",
      "[0.02995405 0.03598121]\n"
     ]
    }
   ],
   "source": [
    "print (np.shape(samples))\n",
    "print (samples[:,:,1])\n",
    "aH_interval = hpd(np.ndarray.flatten(samples[:,:,1]), 0.6827)\n",
    "print (aH_interval)"
   ]
  },
  {
   "cell_type": "code",
   "execution_count": null,
   "metadata": {},
   "outputs": [],
   "source": [
    "sampsize=10000\n",
    "Erecoil_keV = np.linspace(10, 200, 50)\n",
    "evec = np.zeros((np.size(Erecoil_keV),sampsize))\n",
    "\n",
    "for i, (aH, C, m, scale, A, B) in enumerate(samples[np.random.randint(len(samples), size=sampsize)]):\n",
    "    if aH >= aH_interval[0] and aH <= aH_interval[1]:\n",
    "        V = scale*4.0\n",
    "        model_NR_0 = [series_NRQ_var_corr1(x, 0, V, aH, 1/18.0, A, B, 'GGA3') for x in Erecoil_keV] \n",
    "        model_NR = np.sqrt(np.power(C + m*Erecoil, 2) + model_NR_0)\n",
    "\n",
    "        v = model_NR\n",
    "        #print(np.std(v))\n",
    "        #print(np.mean(v))\n",
    "        evec[:,i] = v\n",
    "\n",
    "# use the best-fit function instead of the mean\n",
    "# to calculate the up and down limits:\n",
    "# find the height at which 68% of the function is contained\n",
    "# the upper and lower are the values that cross that height\n",
    "upvec = []\n",
    "dnvec = []\n",
    "for sample in evec:\n",
    "    #print (np.size(sample))\n",
    "    #print(sample)\n",
    "    interval = hpd(sample, 0.6827)\n",
    "    #print (interval)\n",
    "    upvec.append(interval[0])\n",
    "    dnvec.append(interval[1])\n",
    "\n",
    "## calculate the best-fit values\n",
    "model_NR_0 = [series_NRQ_var_corr1(x, 0, V_fit, aH_fit, 1/18.0, A_fit, B_fit, 'GGA3') for x in Erecoil_keV] \n",
    "model_NR_fit = np.sqrt(np.power(C_fit + m_fit*Erecoil, 2) + model_NR_0)"
   ]
  }
 ],
 "metadata": {
  "kernelspec": {
   "display_name": "Python [conda env:fano_pub]",
   "language": "python",
   "name": "conda-env-fano_pub-py"
  },
  "language_info": {
   "codemirror_mode": {
    "name": "ipython",
    "version": 3
   },
   "file_extension": ".py",
   "mimetype": "text/x-python",
   "name": "python",
   "nbconvert_exporter": "python",
   "pygments_lexer": "ipython3",
   "version": "3.7.6"
  }
 },
 "nbformat": 4,
 "nbformat_minor": 4
}
