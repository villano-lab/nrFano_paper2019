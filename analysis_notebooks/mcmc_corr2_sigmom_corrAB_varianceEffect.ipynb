{
 "cells": [
  {
   "cell_type": "code",
   "execution_count": 1,
   "metadata": {},
   "outputs": [
    {
     "name": "stdout",
     "output_type": "stream",
     "text": [
      "GGA3/NR/4.0/5.556E-02/0.0380/000/0.1493/0.1782/0.9975/\n",
      "GGA3/NR/4.0/5.556E-02/0.0381/000/0.1537/0.1703/0.9948/\n"
     ]
    }
   ],
   "source": [
    "import numpy as np\n",
    "import pandas as pd\n",
    "import matplotlib.pyplot as plt\n",
    "%matplotlib inline \n",
    "import h5py\n",
    "\n",
    "import sys\n",
    "sys.path.append('../python/')\n",
    "from edw_data_util import *"
   ]
  },
  {
   "cell_type": "code",
   "execution_count": 2,
   "metadata": {},
   "outputs": [],
   "source": [
    "filename = 'data/edelweiss_corr1_systematicErrors_sampler_nll_allpars_corrAB_gausPrior_2844a28.h5'"
   ]
  },
  {
   "cell_type": "code",
   "execution_count": 3,
   "metadata": {},
   "outputs": [],
   "source": [
    "f = h5py.File(filename,'r')\n",
    "\n",
    "# need to store data in an array:\n",
    "# The sampler will now have a chains attribute \n",
    "# which is an array with shape (Nwalker,N,Ndim) \n",
    "# where N is the number of interations (500 in our inital run)\n",
    "# and Ndim is the number of fit parameters\n",
    "path='{}/{}/'.format('mcmc','sampler')\n",
    "\n",
    "aH = np.asarray(f[path+'aH'])\n",
    "C = np.asarray(f[path+'C'])\n",
    "m = np.asarray(f[path+'m'])\n",
    "scale = np.asarray(f[path+'scale'])\n",
    "A = np.asarray(f[path+'A'])\n",
    "B = np.asarray(f[path+'B'])\n",
    "samples = np.asarray(f[path+'samples'])\n",
    "\n",
    "f.close()"
   ]
  },
  {
   "cell_type": "code",
   "execution_count": 4,
   "metadata": {},
   "outputs": [
    {
     "name": "stdout",
     "output_type": "stream",
     "text": [
      "(100, 5000, 6)\n",
      "[[0.03383839 0.03422393 0.03422393 ... 0.03305807 0.03305807 0.03305807]\n",
      " [0.03523041 0.03665635 0.03665635 ... 0.03565165 0.03394058 0.03491631]\n",
      " [0.03136095 0.0314244  0.0314244  ... 0.0363116  0.0363116  0.03627199]\n",
      " ...\n",
      " [0.03449717 0.03260372 0.03260372 ... 0.03084531 0.02891799 0.02989469]\n",
      " [0.03540461 0.03540461 0.03559485 ... 0.02874892 0.02874892 0.02783924]\n",
      " [0.02946945 0.02946945 0.02946945 ... 0.03005696 0.03008158 0.03008158]]\n",
      "[0.02995405 0.03598121]\n"
     ]
    }
   ],
   "source": [
    "print (np.shape(samples))\n",
    "print (samples[:,:,1])\n",
    "aH_interval = hpd(np.ndarray.flatten(samples[:,:,1]), 0.6827)\n",
    "print (aH_interval)"
   ]
  },
  {
   "cell_type": "code",
   "execution_count": 13,
   "metadata": {},
   "outputs": [
    {
     "name": "stdout",
     "output_type": "stream",
     "text": [
      "(100, 5000, 6)\n"
     ]
    }
   ],
   "source": [
    "ndim = 6\n",
    "samples_corner = samples[:, 300:, :].reshape((-1, ndim))\n",
    "\n",
    "sampsize=100\n",
    "Erecoil_keV = np.linspace(10, 200, 50)\n",
    "evec = np.zeros((np.size(Erecoil_keV),sampsize))\n",
    "\n",
    "print(np.shape(samples[np.random.randint(len(samples), size=sampsize)]))\n",
    "\n",
    "for i, (aH, C, m, scale, A, B) in enumerate(samples_corner[np.random.randint(len(samples_corner), size=sampsize)]):\n",
    "    if aH >= aH_interval[0] and aH <= aH_interval[1]:\n",
    "        V = scale*4.0\n",
    "        model_NR_0 = [series_NRQ_var_corr2(x, 0, V, aH, 1/18.0, A, B, 'GGA3') for x in Erecoil_keV] \n",
    "        model_NR = np.sqrt(np.power(C + m*Erecoil_keV, 2) + model_NR_0)\n",
    "\n",
    "        v = model_NR\n",
    "        #print(np.std(v))\n",
    "        #print(np.mean(v))\n",
    "        evec[:,i] = v\n",
    "\n",
    "## calculate the best-fit values\n",
    "aH_fit, C_fit, m_fit, scale_fit = 3.81134613e-02, 3.32613445e-02, 1.11522962e-04, 9.94778557e-01\n",
    "A_fit, B_fit = 1.53737587e-01, 1.70327657e-01 \n",
    "V_fit = 4*scale_fit\n",
    "\n",
    "model_NR_0 = [series_NRQ_var_corr1(x, 0, V_fit, aH_fit, 1/18.0, A_fit, B_fit, 'GGA3') for x in Erecoil_keV] \n",
    "model_NR_fit = np.sqrt(np.power(C_fit + m_fit*Erecoil_keV, 2) + model_NR_0)"
   ]
  },
  {
   "cell_type": "code",
   "execution_count": 22,
   "metadata": {},
   "outputs": [
    {
     "name": "stdout",
     "output_type": "stream",
     "text": [
      "(50, 100)\n"
     ]
    },
    {
     "data": {
      "text/plain": [
       "(10, 200)"
      ]
     },
     "execution_count": 22,
     "metadata": {},
     "output_type": "execute_result"
    },
    {
     "data": {
      "image/png": "[encoded data removed]",
      "text/plain": [
       "<Figure size 432x288 with 1 Axes>"
      ]
     },
     "metadata": {
      "needs_background": "light"
     },
     "output_type": "display_data"
    }
   ],
   "source": [
    "print(np.shape(evec))\n",
    "for model_NR in np.transpose(evec):\n",
    "    plt.plot(Erecoil_keV, model_NR, color=\"k\", lw=2, alpha=0.15)\n",
    "    \n",
    "plt.plot(Erecoil_keV, model_NR_fit, color=\"r\", lw=2, alpha=0.8)\n",
    "\n",
    "plt.xlim(10, 200)\n",
    "#plt.ylim(0.04, 0.1)"
   ]
  },
  {
   "cell_type": "markdown",
   "metadata": {},
   "source": [
    "## Okay, trying something new\n",
    "Compare the best-fit yield variance (using sigmom) with the yield variance using the maxima of the posterior distribution "
   ]
  },
  {
   "cell_type": "code",
   "execution_count": null,
   "metadata": {},
   "outputs": [],
   "source": []
  }
 ],
 "metadata": {
  "kernelspec": {
   "display_name": "Python [conda env:fano_pub]",
   "language": "python",
   "name": "conda-env-fano_pub-py"
  },
  "language_info": {
   "codemirror_mode": {
    "name": "ipython",
    "version": 3
   },
   "file_extension": ".py",
   "mimetype": "text/x-python",
   "name": "python",
   "nbconvert_exporter": "python",
   "pygments_lexer": "ipython3",
   "version": "3.7.6"
  }
 },
 "nbformat": 4,
 "nbformat_minor": 4
}
