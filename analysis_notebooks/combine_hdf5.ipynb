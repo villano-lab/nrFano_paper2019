{
 "cells": [
  {
   "cell_type": "code",
   "execution_count": 1,
   "metadata": {},
   "outputs": [],
   "source": [
    "import matplotlib.pyplot as plt\n",
    "%matplotlib inline \n",
    "import h5py\n",
    "import numpy as np\n",
    "import pandas as pd\n",
    "from astropy.table import Table, Column, vstack\n",
    "from astropy.io.misc.hdf5 import read_table_hdf5, write_table_hdf5"
   ]
  },
  {
   "cell_type": "code",
   "execution_count": 2,
   "metadata": {},
   "outputs": [],
   "source": [
    "def getFiles(dirname, energy):\n",
    "    import os\n",
    "    import re\n",
    "    (root, _, allfilenames) = next(os.walk(dirname))\n",
    "    energy_str = '_{:.2f}_'.format(energy)\n",
    "    regex = re.compile(re.escape(energy_str))\n",
    "    \n",
    "    filenames = [os.path.join(root, f) for f in allfilenames if regex.search(f)]\n",
    "    \n",
    "    return filenames  \n",
    "\n",
    "def concatenate_h5(filenames):\n",
    "    return [read_table_hdf5(file, 'table') for file in filenames]        "
   ]
  },
  {
   "cell_type": "code",
   "execution_count": 3,
   "metadata": {},
   "outputs": [],
   "source": [
    "# get the energies\n",
    "# We'll look at the Er values of the data points\n",
    "# import data from Edelweiss\n",
    "resNR_data = pd.read_csv(\"data/edelweiss_NRwidth_GGA3_data.txt\", skiprows=1, \\\n",
    "                       names=['E_recoil', 'sig_NR', 'E_recoil_err', 'sig_NR_err'], \\\n",
    "                       delim_whitespace=True)\n",
    "\n",
    "# the sorting is necessary!\n",
    "# otherwise the mask defined below will select the wrong data\n",
    "resNR_data = resNR_data.sort_values(by='E_recoil')\n",
    "NR_data = {'Erecoil': resNR_data[\"E_recoil\"][2::], 'sigma': resNR_data[\"sig_NR\"][2::], 'sigma_err': resNR_data[\"sig_NR_err\"][2::]}\n"
   ]
  },
  {
   "cell_type": "code",
   "execution_count": 5,
   "metadata": {},
   "outputs": [],
   "source": [
    "# combine all the files for each energy\n",
    "for Erecoil in NR_data['Erecoil']:\n",
    "    # an array of strings\n",
    "    filenames = getFiles('../../nrFano_data',Erecoil)\n",
    "    table_arr = concatenate_h5(filenames)\n",
    "    full_tab = vstack(table_arr)\n",
    "    \n",
    "    # don't overwrite if it already exists\n",
    "    try:\n",
    "        h5_filename = '../analysis_notebooks/data/yield_accuracy_Erecoil_%.2f_keV_%s.h5' % (Erecoil, 'all')\n",
    "        full_tab.write(h5_filename, format='hdf5', path='table')\n",
    "    except:\n",
    "        pass"
   ]
  },
  {
   "cell_type": "code",
   "execution_count": 27,
   "metadata": {},
   "outputs": [],
   "source": [
    "tab1 = read_table_hdf5(filenames[0], 'table')\n",
    "tab2 = read_table_hdf5(filenames[0], 'table')"
   ]
  },
  {
   "cell_type": "code",
   "execution_count": 26,
   "metadata": {},
   "outputs": [
    {
     "data": {
      "text/html": [
       "<i>Table length=5</i>\n",
       "<table id=\"table2141002870624\" class=\"table-striped table-bordered table-condensed\">\n",
       "<thead><tr><th>energy_recoil_keV</th><th>aH</th><th>C</th><th>m</th><th>scale</th><th>A</th><th>B</th><th>true_yield_sig</th><th>cor1_yield_sig</th></tr></thead>\n",
       "<thead><tr><th>float64</th><th>float64</th><th>float64</th><th>float64</th><th>float64</th><th>float64</th><th>float64</th><th>float64</th><th>float64</th></tr></thead>\n",
       "<tr><td>24.5012</td><td>0.037259034286155075</td><td>0.03820656999918315</td><td>7.459537803714777e-05</td><td>0.9778066235294974</td><td>0.06887616665387132</td><td>0.1616482321094805</td><td>0.040563204164007674</td><td>0.04261415589080108</td></tr>\n",
       "<tr><td>24.5012</td><td>0.03978345283249353</td><td>0.0423452892717168</td><td>9.675491373645282e-06</td><td>0.9130638704757222</td><td>0.06587949804222165</td><td>-0.008448510868190498</td><td>0.03710131849417052</td><td>0.039972517006009484</td></tr>\n",
       "<tr><td>24.5012</td><td>0.03909586876660256</td><td>0.037622314256703496</td><td>9.190529393651988e-05</td><td>0.8682962266965917</td><td>0.14703316762852828</td><td>0.002713993192156497</td><td>0.04051548257353673</td><td>0.043357434102399374</td></tr>\n",
       "<tr><td>24.5012</td><td>0.03721730951738749</td><td>0.04133284190508545</td><td>1.9695848383783344e-05</td><td>0.9998899666544032</td><td>0.0803685482373733</td><td>0.09982630090307903</td><td>0.04010253515718411</td><td>0.04251084773781603</td></tr>\n",
       "<tr><td>24.5012</td><td>0.039189510868174765</td><td>0.043190614120459526</td><td>-1.1646287888122653e-05</td><td>1.0312918722789348</td><td>0.0757509186180059</td><td>0.1740996685121308</td><td>0.04194996749110543</td><td>0.043790254593970034</td></tr>\n",
       "</table>"
      ],
      "text/plain": [
       "<Table length=5>\n",
       "energy_recoil_keV          aH          ...    cor1_yield_sig   \n",
       "     float64            float64        ...       float64       \n",
       "----------------- -------------------- ... --------------------\n",
       "          24.5012 0.037259034286155075 ...  0.04261415589080108\n",
       "          24.5012  0.03978345283249353 ... 0.039972517006009484\n",
       "          24.5012  0.03909586876660256 ... 0.043357434102399374\n",
       "          24.5012  0.03721730951738749 ...  0.04251084773781603\n",
       "          24.5012 0.039189510868174765 ... 0.043790254593970034"
      ]
     },
     "execution_count": 26,
     "metadata": {},
     "output_type": "execute_result"
    }
   ],
   "source": [
    "tab1"
   ]
  },
  {
   "cell_type": "code",
   "execution_count": 33,
   "metadata": {},
   "outputs": [],
   "source": [
    "full_tab = vstack([tab1, tab2])"
   ]
  },
  {
   "cell_type": "code",
   "execution_count": 34,
   "metadata": {},
   "outputs": [
    {
     "data": {
      "text/html": [
       "<i>Table length=10</i>\n",
       "<table id=\"table2141018063144\" class=\"table-striped table-bordered table-condensed\">\n",
       "<thead><tr><th>energy_recoil_keV</th><th>aH</th><th>C</th><th>m</th><th>scale</th><th>A</th><th>B</th><th>true_yield_sig</th><th>cor1_yield_sig</th></tr></thead>\n",
       "<thead><tr><th>float64</th><th>float64</th><th>float64</th><th>float64</th><th>float64</th><th>float64</th><th>float64</th><th>float64</th><th>float64</th></tr></thead>\n",
       "<tr><td>24.5012</td><td>0.037259034286155075</td><td>0.03820656999918315</td><td>7.459537803714777e-05</td><td>0.9778066235294974</td><td>0.06887616665387132</td><td>0.1616482321094805</td><td>0.040563204164007674</td><td>0.04261415589080108</td></tr>\n",
       "<tr><td>24.5012</td><td>0.03978345283249353</td><td>0.0423452892717168</td><td>9.675491373645282e-06</td><td>0.9130638704757222</td><td>0.06587949804222165</td><td>-0.008448510868190498</td><td>0.03710131849417052</td><td>0.039972517006009484</td></tr>\n",
       "<tr><td>24.5012</td><td>0.03909586876660256</td><td>0.037622314256703496</td><td>9.190529393651988e-05</td><td>0.8682962266965917</td><td>0.14703316762852828</td><td>0.002713993192156497</td><td>0.04051548257353673</td><td>0.043357434102399374</td></tr>\n",
       "<tr><td>24.5012</td><td>0.03721730951738749</td><td>0.04133284190508545</td><td>1.9695848383783344e-05</td><td>0.9998899666544032</td><td>0.0803685482373733</td><td>0.09982630090307903</td><td>0.04010253515718411</td><td>0.04251084773781603</td></tr>\n",
       "<tr><td>24.5012</td><td>0.039189510868174765</td><td>0.043190614120459526</td><td>-1.1646287888122653e-05</td><td>1.0312918722789348</td><td>0.0757509186180059</td><td>0.1740996685121308</td><td>0.04194996749110543</td><td>0.043790254593970034</td></tr>\n",
       "<tr><td>24.5012</td><td>0.037259034286155075</td><td>0.03820656999918315</td><td>7.459537803714777e-05</td><td>0.9778066235294974</td><td>0.06887616665387132</td><td>0.1616482321094805</td><td>0.040563204164007674</td><td>0.04261415589080108</td></tr>\n",
       "<tr><td>24.5012</td><td>0.03978345283249353</td><td>0.0423452892717168</td><td>9.675491373645282e-06</td><td>0.9130638704757222</td><td>0.06587949804222165</td><td>-0.008448510868190498</td><td>0.03710131849417052</td><td>0.039972517006009484</td></tr>\n",
       "<tr><td>24.5012</td><td>0.03909586876660256</td><td>0.037622314256703496</td><td>9.190529393651988e-05</td><td>0.8682962266965917</td><td>0.14703316762852828</td><td>0.002713993192156497</td><td>0.04051548257353673</td><td>0.043357434102399374</td></tr>\n",
       "<tr><td>24.5012</td><td>0.03721730951738749</td><td>0.04133284190508545</td><td>1.9695848383783344e-05</td><td>0.9998899666544032</td><td>0.0803685482373733</td><td>0.09982630090307903</td><td>0.04010253515718411</td><td>0.04251084773781603</td></tr>\n",
       "<tr><td>24.5012</td><td>0.039189510868174765</td><td>0.043190614120459526</td><td>-1.1646287888122653e-05</td><td>1.0312918722789348</td><td>0.0757509186180059</td><td>0.1740996685121308</td><td>0.04194996749110543</td><td>0.043790254593970034</td></tr>\n",
       "</table>"
      ],
      "text/plain": [
       "<Table length=10>\n",
       "energy_recoil_keV          aH          ...    cor1_yield_sig   \n",
       "     float64            float64        ...       float64       \n",
       "----------------- -------------------- ... --------------------\n",
       "          24.5012 0.037259034286155075 ...  0.04261415589080108\n",
       "          24.5012  0.03978345283249353 ... 0.039972517006009484\n",
       "          24.5012  0.03909586876660256 ... 0.043357434102399374\n",
       "          24.5012  0.03721730951738749 ...  0.04251084773781603\n",
       "          24.5012 0.039189510868174765 ... 0.043790254593970034\n",
       "          24.5012 0.037259034286155075 ...  0.04261415589080108\n",
       "          24.5012  0.03978345283249353 ... 0.039972517006009484\n",
       "          24.5012  0.03909586876660256 ... 0.043357434102399374\n",
       "          24.5012  0.03721730951738749 ...  0.04251084773781603\n",
       "          24.5012 0.039189510868174765 ... 0.043790254593970034"
      ]
     },
     "execution_count": 34,
     "metadata": {},
     "output_type": "execute_result"
    }
   ],
   "source": [
    "full_tab"
   ]
  },
  {
   "cell_type": "code",
   "execution_count": 35,
   "metadata": {},
   "outputs": [],
   "source": [
    "full_tab.write('data/cat.hdf5', format='hdf5', path='table')"
   ]
  },
  {
   "cell_type": "code",
   "execution_count": 80,
   "metadata": {},
   "outputs": [
    {
     "data": {
      "text/plain": [
       "'yield_accuracy_Erecoil_2.45_keV_all.h5'"
      ]
     },
     "execution_count": 80,
     "metadata": {},
     "output_type": "execute_result"
    }
   ],
   "source": [
    "'yield_accuracy_Erecoil_%.2f_keV_%s.h5' % (2.45, 'all')"
   ]
  },
  {
   "cell_type": "code",
   "execution_count": null,
   "metadata": {},
   "outputs": [],
   "source": []
  }
 ],
 "metadata": {
  "kernelspec": {
   "display_name": "Python [conda env:nr_fano] *",
   "language": "python",
   "name": "conda-env-nr_fano-py"
  },
  "language_info": {
   "codemirror_mode": {
    "name": "ipython",
    "version": 3
   },
   "file_extension": ".py",
   "mimetype": "text/x-python",
   "name": "python",
   "nbconvert_exporter": "python",
   "pygments_lexer": "ipython3",
   "version": "3.6.8"
  }
 },
 "nbformat": 4,
 "nbformat_minor": 4
}
