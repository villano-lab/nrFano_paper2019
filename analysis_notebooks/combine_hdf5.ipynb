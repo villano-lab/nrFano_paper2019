{
 "cells": [
  {
   "cell_type": "code",
   "execution_count": 1,
   "metadata": {},
   "outputs": [],
   "source": [
    "import matplotlib.pyplot as plt\n",
    "%matplotlib inline \n",
    "import h5py\n",
    "import numpy as np\n",
    "import pandas as pd\n",
    "from astropy.table import Table, Column, vstack\n",
    "from astropy.io.misc.hdf5 import read_table_hdf5, write_table_hdf5"
   ]
  },
  {
   "cell_type": "code",
   "execution_count": 2,
   "metadata": {},
   "outputs": [],
   "source": [
    "def getFiles(dirname, energy):\n",
    "    import os\n",
    "    import re\n",
    "    (root, _, allfilenames) = next(os.walk(dirname))\n",
    "    energy_str = '_{:.2f}_'.format(energy)\n",
    "    regex = re.compile(re.escape(energy_str))\n",
    "    \n",
    "    filenames = [os.path.join(root, f) for f in allfilenames if regex.search(f)]\n",
    "    \n",
    "    return filenames  \n",
    "\n",
    "def concatenate_h5(filenames):\n",
    "    return [read_table_hdf5(file, 'table') for file in filenames]        "
   ]
  },
  {
   "cell_type": "code",
   "execution_count": 3,
   "metadata": {},
   "outputs": [],
   "source": [
    "# get the energies\n",
    "# We'll look at the Er values of the data points\n",
    "# import data from Edelweiss\n",
    "resNR_data = pd.read_csv(\"data/edelweiss_NRwidth_GGA3_data.txt\", skiprows=1, \\\n",
    "                       names=['E_recoil', 'sig_NR', 'E_recoil_err', 'sig_NR_err'], \\\n",
    "                       delim_whitespace=True)\n",
    "\n",
    "# the sorting is necessary!\n",
    "# otherwise the mask defined below will select the wrong data\n",
    "resNR_data = resNR_data.sort_values(by='E_recoil')\n",
    "NR_data = {'Erecoil': resNR_data[\"E_recoil\"][2::], 'sigma': resNR_data[\"sig_NR\"][2::], 'sigma_err': resNR_data[\"sig_NR_err\"][2::]}\n"
   ]
  },
  {
   "cell_type": "code",
   "execution_count": 5,
   "metadata": {},
   "outputs": [],
   "source": [
    "# combine all the files for each energy\n",
    "for Erecoil in NR_data['Erecoil']:\n",
    "    # an array of strings\n",
    "    filenames = getFiles('../../nrFano_data/Aug2',Erecoil)\n",
    "    table_arr = concatenate_h5(filenames)\n",
    "    \n",
    "    # there might not be files for that energy yet\n",
    "    try:\n",
    "        full_tab = vstack(table_arr)\n",
    "\n",
    "        # don't overwrite if it already exists\n",
    "        try:\n",
    "            h5_filename = '../analysis_notebooks/data/yield_accuracy_Erecoil_%.2f_keV_%s_corrAB_Aug2.h5' % (Erecoil, 'all')\n",
    "            full_tab.write(h5_filename, format='hdf5', path='table')\n",
    "        except:\n",
    "            pass\n",
    "    except:\n",
    "        pass"
   ]
  },
  {
   "cell_type": "code",
   "execution_count": null,
   "metadata": {},
   "outputs": [],
   "source": []
  }
 ],
 "metadata": {
  "kernelspec": {
   "display_name": "Python [conda env:nr_fano] *",
   "language": "python",
   "name": "conda-env-nr_fano-py"
  },
  "language_info": {
   "codemirror_mode": {
    "name": "ipython",
    "version": 3
   },
   "file_extension": ".py",
   "mimetype": "text/x-python",
   "name": "python",
   "nbconvert_exporter": "python",
   "pygments_lexer": "ipython3",
   "version": "3.6.8"
  }
 },
 "nbformat": 4,
 "nbformat_minor": 4
}
