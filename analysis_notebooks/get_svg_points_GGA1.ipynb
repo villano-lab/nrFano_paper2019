{
 "cells": [
  {
   "cell_type": "code",
   "execution_count": 7,
   "metadata": {},
   "outputs": [],
   "source": [
    "import matplotlib.pyplot as plt\n",
    "from matplotlib.ticker import MultipleLocator\n",
    "import mpld3\n",
    "import numpy as np\n",
    "import itertools\n",
    "from tabulate import tabulate\n",
    "\n",
    "# need code in the ../python directory, specifically svg_extract_data\n",
    "import sys\n",
    "import os\n",
    "sys.path.append('../python/')\n",
    "import svgpathtools as svg\n",
    "from svg_extract_data import *\n",
    "\n",
    "#%matplotlib notebook\n",
    "#%matplotlib inline\n",
    "mpld3.enable_notebook()"
   ]
  },
  {
   "cell_type": "code",
   "execution_count": 2,
   "metadata": {},
   "outputs": [
    {
     "data": {
      "text/plain": [
       "\"\\ndoc = Document('edelweiss_ER_band_GGA3.svg')\\ndoc = doc.flatten_all_paths()\\nprint (doc[0].path[0].start.real)\\nprint(len(doc[0].path))\\nprint (doc[0].path[0].length())\\n\""
      ]
     },
     "execution_count": 2,
     "metadata": {},
     "output_type": "execute_result"
    }
   ],
   "source": [
    "# svg2paths does not apply relevant transformation to paths!\n",
    "#paths, attributes = svg2paths('edelweiss_ER_band_GGA3.svg')\n",
    "\n",
    "# Document does apply relevant transformations, it's what you need\n",
    "\"\"\"\n",
    "doc = Document('edelweiss_ER_band_GGA3.svg')\n",
    "doc = doc.flatten_all_paths()\n",
    "print (doc[0].path[0].start.real)\n",
    "print(len(doc[0].path))\n",
    "print (doc[0].path[0].length())\n",
    "\"\"\""
   ]
  },
  {
   "cell_type": "code",
   "execution_count": 8,
   "metadata": {},
   "outputs": [
    {
     "data": {
      "text/plain": [
       "\u001b[1;31mType:\u001b[0m        module\n",
       "\u001b[1;31mString form:\u001b[0m <module 'svgpathtools' from 'C:\\\\Users\\\\canto\\\\Anaconda3\\\\envs\\\\nr_fano\\\\lib\\\\site-packages\\\\svgpathtools\\\\__init__.py'>\n",
       "\u001b[1;31mFile:\u001b[0m        c:\\users\\canto\\anaconda3\\envs\\nr_fano\\lib\\site-packages\\svgpathtools\\__init__.py\n",
       "\u001b[1;31mDocstring:\u001b[0m   <no docstring>\n"
      ]
     },
     "metadata": {},
     "output_type": "display_data"
    }
   ],
   "source": [
    "svg?"
   ]
  },
  {
   "cell_type": "code",
   "execution_count": 3,
   "metadata": {},
   "outputs": [],
   "source": [
    "# for bands, GGA1\n",
    "# paths with 4 lines seem to be data points (doesn't graph so well, there are lots!)\n",
    "# path with 7 lines is some kind of curve\n",
    "# path with 13 lines also curve\n",
    "# path with 17 lines left y-axis with minor, major ticks\n",
    "# path with 19 lines a curve\n",
    "# path with 21 a curve\n",
    "# path with 22 bottom x-axis with minor, major ticks\n",
    "# paths with 23 lines are both curves\n",
    "# path with 40 lines is top/right axes with minor, major ticks and line at Y=1\n",
    "# path with 46 lines seems to be the ER band, both top and bottom\n",
    "def get_paths(doc, path_len):\n",
    "    #import matplotlib.pyplot as plt\n",
    "    #import numpy as np\n",
    "    path_arr = []\n",
    "    \n",
    "    #print ([len(result.path) for result in doc])\n",
    "    \n",
    "    for result in doc:\n",
    "        path = result.path\n",
    "\n",
    "        if len(path) == path_len: # maybe these are error bars?\n",
    "            path_arr.append(path)\n",
    "            #print (path)\n",
    "            #for line in path:\n",
    "                # if the line is NOT a Bezier curve\n",
    "                #if not hasattr(line, 'control1'):\n",
    "                    #print (\"plotting, \", len(path))\n",
    "\n",
    "    return path_arr\n",
    "\n",
    "def plot_paths(paths):\n",
    "    for path in paths:\n",
    "        for line in path:\n",
    "            #print(path)\n",
    "            plt.plot([line.start.real,line.end.real],[line.start.imag,line.end.imag],'.-')\n",
    "            \n",
    "    #plt.ylim(0,200)\n",
    "    #plt.xlim(0,200)\n"
   ]
  },
  {
   "cell_type": "code",
   "execution_count": 6,
   "metadata": {},
   "outputs": [
    {
     "ename": "NameError",
     "evalue": "name 'Document' is not defined",
     "output_type": "error",
     "traceback": [
      "\u001b[1;31m---------------------------------------------------------------------------\u001b[0m",
      "\u001b[1;31mNameError\u001b[0m                                 Traceback (most recent call last)",
      "\u001b[1;32m<ipython-input-6-e764634ed28f>\u001b[0m in \u001b[0;36m<module>\u001b[1;34m\u001b[0m\n\u001b[0;32m      2\u001b[0m \u001b[1;32mtry\u001b[0m\u001b[1;33m:\u001b[0m\u001b[1;33m\u001b[0m\u001b[1;33m\u001b[0m\u001b[0m\n\u001b[1;32m----> 3\u001b[1;33m     \u001b[0mdoc\u001b[0m\u001b[1;33m\u001b[0m\u001b[1;33m\u001b[0m\u001b[0m\n\u001b[0m\u001b[0;32m      4\u001b[0m \u001b[1;32mexcept\u001b[0m \u001b[0mNameError\u001b[0m\u001b[1;33m:\u001b[0m\u001b[1;33m\u001b[0m\u001b[1;33m\u001b[0m\u001b[0m\n",
      "\u001b[1;31mNameError\u001b[0m: name 'doc' is not defined",
      "\nDuring handling of the above exception, another exception occurred:\n",
      "\u001b[1;31mNameError\u001b[0m                                 Traceback (most recent call last)",
      "\u001b[1;32m<ipython-input-6-e764634ed28f>\u001b[0m in \u001b[0;36m<module>\u001b[1;34m\u001b[0m\n\u001b[0;32m      3\u001b[0m     \u001b[0mdoc\u001b[0m\u001b[1;33m\u001b[0m\u001b[1;33m\u001b[0m\u001b[0m\n\u001b[0;32m      4\u001b[0m \u001b[1;32mexcept\u001b[0m \u001b[0mNameError\u001b[0m\u001b[1;33m:\u001b[0m\u001b[1;33m\u001b[0m\u001b[1;33m\u001b[0m\u001b[0m\n\u001b[1;32m----> 5\u001b[1;33m     \u001b[0mdoc\u001b[0m \u001b[1;33m=\u001b[0m \u001b[0mDocument\u001b[0m\u001b[1;33m(\u001b[0m\u001b[1;34m'../analysis_documentation/pics/lindhard2_curves.svg'\u001b[0m\u001b[1;33m)\u001b[0m\u001b[1;33m\u001b[0m\u001b[1;33m\u001b[0m\u001b[0m\n\u001b[0m\u001b[0;32m      6\u001b[0m     \u001b[0mdoc\u001b[0m \u001b[1;33m=\u001b[0m \u001b[0mdoc\u001b[0m\u001b[1;33m.\u001b[0m\u001b[0mflatten_all_paths\u001b[0m\u001b[1;33m(\u001b[0m\u001b[1;33m)\u001b[0m\u001b[1;33m\u001b[0m\u001b[1;33m\u001b[0m\u001b[0m\n\u001b[0;32m      7\u001b[0m \u001b[1;33m\u001b[0m\u001b[0m\n",
      "\u001b[1;31mNameError\u001b[0m: name 'Document' is not defined"
     ]
    }
   ],
   "source": [
    "# load svg data only if we haven't already got it\n",
    "try:\n",
    "    doc\n",
    "except NameError:\n",
    "    doc = Document('../analysis_documentation/pics/lindhard2_curves.svg')\n",
    "    doc = doc.flatten_all_paths()\n",
    "\n",
    "    #print(len(paths)) #2 paths with 13 lines in edelweiss_ER_band_GGA3.svg\n",
    "    #paths_ER = get_paths(doc, 13)\n",
    "    #plot_paths(paths_ER)\n",
    "\n",
    "    paths_NR = get_paths(doc, 4)\n",
    "    print(len(paths_NR))\n",
    "    #plot_paths(paths_NR)\n",
    "    #plot_paths((paths_NR[0],))\n",
    "    #print(paths_NR[0])\n",
    "\n",
    "    #plt.show()"
   ]
  },
  {
   "cell_type": "code",
   "execution_count": null,
   "metadata": {},
   "outputs": [],
   "source": [
    "# these are the points for the GGA1 graph\n",
    "graph_points_GGA1 = np.array([(0,0), (50,0), (100,0), (150,0), (200,0), (0,0.5), (0,1), (0,1.5)])\n",
    "\n",
    "# get_calib_fn (doc, graph_points):\n",
    "xcalib_fn, ycalib_fn = get_calib_fn(doc, graph_points_GGA1)"
   ]
  },
  {
   "cell_type": "code",
   "execution_count": null,
   "metadata": {},
   "outputs": [],
   "source": [
    "#paths_GGA1 = list(itertools.chain(*paths_GGA1))\n",
    "print(paths_NR[0:3])\n",
    "paths_NR[2].isclosed()\n",
    "#plot_paths(paths_NR[0:3])\n",
    "\n",
    "for path in paths_NR[0:3]:\n",
    "    # only Bezier curves are data points AFAIK\n",
    "    isData = any([hasattr(line, 'control1') for line in path])\n",
    "    \n",
    "    if isData:\n",
    "        plot_paths((path,))"
   ]
  },
  {
   "cell_type": "code",
   "execution_count": null,
   "metadata": {
    "scrolled": true
   },
   "outputs": [],
   "source": [
    "def get_data_from_path(path, xcalib_fn, ycalib_fn):\n",
    "    \"\"\"get_data_from_path assumes your point is made of four lines with\n",
    "    a start and an end and that the average of the vertical and horizontal lines\n",
    "    gives the center of the point\"\"\"\n",
    "    t1 = 0.25\n",
    "    t2 = 0.45\n",
    "    mag = path.length()\n",
    "    \n",
    "    try:\n",
    "        n1 = path.normal(t1)\n",
    "        n2 = path.normal(t2)\n",
    "\n",
    "        line1 = Line(path.point(t1) - mag*n1, path.point(t1) + mag*n1)\n",
    "        line2 = Line(path.point(t2) - mag*n2, path.point(t2) + mag*n2)\n",
    "\n",
    "        # t is the parameter for intersection for line1,\n",
    "        # k is the parameter for intersection for line2\n",
    "        [(t, k)] = line1.intersect(line2)\n",
    "        #print(line1.point(t_int), line2.point(k_int))\n",
    "        #print(t_int)\n",
    "        #print(line1)\n",
    "        #plot_paths((path, [line1], [line2]))\n",
    "\n",
    "        point = (xcalib_fn(line1.point(t).real), ycalib_fn(line1.point(t).imag))\n",
    "    except:       \n",
    "        point = (np.NaN, np.NaN)\n",
    "              \n",
    "    return point \n",
    "    \n",
    "\n",
    "\n",
    "point_table = []\n",
    "for path in paths_NR:\n",
    "    # only Bezier curves are data points AFAIK\n",
    "    #isData = any([hasattr(line, 'control1') for line in path])\n",
    "    \n",
    "    # only Bezier curves are data points AFAIK\n",
    "    isData = any([hasattr(line, 'control1') for line in path])\n",
    "    \n",
    "    if isData:    \n",
    "        point = get_data_from_path(path, xcalib_fn, ycalib_fn)\n",
    "        point_table.append(point)\n",
    "\n",
    "        # store in point_table for use later\n",
    "        #point_table.append(path0_arr[:,0])\n",
    "        #point_table.append(path0_arr[:,1])\n",
    "    \n",
    "#print(point_table)\n",
    "\n",
    "headers=[\"'Erecoil (keV)'\", \"'Yield'\"]\n",
    "#print (tabulate(point_table, headers=headers, tablefmt=\"plain\", numalign=\"left\"))\n",
    "\n",
    "#with open(\"edelweiss_GGA1_pointData.txt\", \"w\") as text_file:\n",
    "#    print(tabulate(point_table, headers=headers, tablefmt=\"plain\", numalign=\"left\"), file=text_file)"
   ]
  },
  {
   "cell_type": "code",
   "execution_count": null,
   "metadata": {},
   "outputs": [],
   "source": [
    "\n",
    "plt.plot(np.array(point_table)[:,0], np.array(point_table)[:,1], '.', alpha=0.2)\n",
    "#plt.plot(path1_arr[:,0], path1_arr[:,1],'r--')\n",
    "#minorLocatorX = MultipleLocator(10)\n",
    "#minorLocatorY = MultipleLocator(0.1)\n",
    "ax = plt.gca()\n",
    "#ax.xaxis.set_minor_locator(minorLocatorX)\n",
    "#ax.yaxis.set_minor_locator(minorLocatorY)\n",
    "#plt.ylim(min(graph_points_GGA1[:,1]),max(graph_points_GGA1[:,1]))\n",
    "#plt.yticks(list(set(graph_points_GGA1[:,1])))\n",
    "#plt.tick_params(which=\"major\", right=True, top=True, direction=\"in\", length=12)\n",
    "#plt.tick_params(which=\"minor\", right=True, top=True, direction=\"in\", length=10)\n",
    "# see https://jdhao.github.io/2017/06/03/change-aspect-ratio-in-mpl/\n",
    "ax.set_aspect(0.75*1.0/ax.get_data_ratio())\n",
    "plt.xlim(0,200)\n",
    "plt.ylim(0,1.5)\n",
    "#plt.xticks(list(set(graph_points_GGA1[:,0])))\n",
    "plt.show()"
   ]
  },
  {
   "cell_type": "code",
   "execution_count": null,
   "metadata": {
    "collapsed": true,
    "jupyter": {
     "outputs_hidden": true
    }
   },
   "outputs": [],
   "source": []
  }
 ],
 "metadata": {
  "anaconda-cloud": {},
  "kernelspec": {
   "display_name": "Python 3",
   "language": "python",
   "name": "python3"
  },
  "language_info": {
   "codemirror_mode": {
    "name": "ipython",
    "version": 3
   },
   "file_extension": ".py",
   "mimetype": "text/x-python",
   "name": "python",
   "nbconvert_exporter": "python",
   "pygments_lexer": "ipython3",
   "version": "3.7.3"
  }
 },
 "nbformat": 4,
 "nbformat_minor": 4
}
